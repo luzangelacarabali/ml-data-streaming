{
 "cells": [
  {
   "cell_type": "markdown",
   "id": "0e149f4c",
   "metadata": {},
   "source": [
    "### Importación de librerías\n",
    "Importa todas las librerías necesarias para el procesamiento de datos, visualización, creación y evaluación de modelos de machine learning, y almacenamiento de modelos."
   ]
  },
  {
   "cell_type": "code",
   "execution_count": 195,
   "id": "79d270f7",
   "metadata": {},
   "outputs": [],
   "source": [
    "import pandas as pd\n",
    "import numpy as np\n",
    "import matplotlib.pyplot as plt\n",
    "import seaborn as sns\n",
    "import os\n",
    "\n",
    "from sklearn.model_selection import train_test_split\n",
    "from sklearn.linear_model import LinearRegression\n",
    "from sklearn.ensemble import RandomForestRegressor\n",
    "from sklearn.linear_model import LinearRegression, RidgeCV, Ridge\n",
    "from sklearn.preprocessing import PolynomialFeatures\n",
    "from sklearn.metrics import mean_squared_error, r2_score\n",
    "from sklearn.preprocessing import StandardScaler, LabelEncoder, PolynomialFeatures\n",
    "from sklearn.pipeline import Pipeline\n",
    "from sklearn.feature_selection import SelectKBest, f_regression\n",
    "from sklearn.model_selection import GridSearchCV, RandomizedSearchCV\n",
    "from sklearn.impute import SimpleImputer\n",
    "\n",
    "\n",
    "import pickle\n",
    "from joblib import load  \n",
    "from joblib import dump\n"
   ]
  },
  {
   "cell_type": "markdown",
   "id": "41fe9acc",
   "metadata": {},
   "source": [
    "### Carga de datos\n",
    "Carga el archivo CSV con los datos procesados y muestra las primeras cinco filas del DataFrame para verificar su contenido."
   ]
  },
  {
   "cell_type": "code",
   "execution_count": 124,
   "id": "10137bdc",
   "metadata": {},
   "outputs": [
    {
     "data": {
      "application/vnd.microsoft.datawrangler.viewer.v0+json": {
       "columns": [
        {
         "name": "index",
         "rawType": "int64",
         "type": "integer"
        },
        {
         "name": "Country",
         "rawType": "object",
         "type": "string"
        },
        {
         "name": "Region",
         "rawType": "object",
         "type": "string"
        },
        {
         "name": "Happiness_Rank",
         "rawType": "int64",
         "type": "integer"
        },
        {
         "name": "Happiness_Score",
         "rawType": "float64",
         "type": "float"
        },
        {
         "name": "GDP_per_Capita",
         "rawType": "float64",
         "type": "float"
        },
        {
         "name": "Social_Support",
         "rawType": "float64",
         "type": "float"
        },
        {
         "name": "Life_Expectancy",
         "rawType": "float64",
         "type": "float"
        },
        {
         "name": "Freedom",
         "rawType": "float64",
         "type": "float"
        },
        {
         "name": "Corruption_Perception",
         "rawType": "float64",
         "type": "float"
        },
        {
         "name": "Generosity",
         "rawType": "float64",
         "type": "float"
        },
        {
         "name": "Dystopia_Residual",
         "rawType": "float64",
         "type": "float"
        },
        {
         "name": "Year",
         "rawType": "int64",
         "type": "integer"
        },
        {
         "name": "Cluster",
         "rawType": "float64",
         "type": "float"
        },
        {
         "name": "Happiness_Level",
         "rawType": "object",
         "type": "string"
        },
        {
         "name": "Happiness Category",
         "rawType": "object",
         "type": "string"
        }
       ],
       "ref": "4be070b4-c1ce-4d6b-be37-6b694fc8e966",
       "rows": [
        [
         "0",
         "Switzerland",
         "Western Europe",
         "1",
         "7.587",
         "1.39651",
         "1.34951",
         "0.94143",
         "0.66557",
         "0.41978",
         "0.29678",
         "2.51738",
         "2015",
         "2.0",
         "Alto",
         "feliz"
        ],
        [
         "1",
         "Iceland",
         "Western Europe",
         "2",
         "7.561",
         "1.30232",
         "1.40223",
         "0.94784",
         "0.62877",
         "0.14145",
         "0.4363",
         "2.70201",
         "2015",
         "2.0",
         "Alto",
         "feliz"
        ],
        [
         "2",
         "Denmark",
         "Western Europe",
         "3",
         "7.527",
         "1.32548",
         "1.36058",
         "0.87464",
         "0.64938",
         "0.48357",
         "0.34139",
         "2.49204",
         "2015",
         "2.0",
         "Alto",
         "feliz"
        ],
        [
         "3",
         "Norway",
         "Western Europe",
         "4",
         "7.522",
         "1.459",
         "1.33095",
         "0.88521",
         "0.66973",
         "0.36503",
         "0.34699",
         "2.46531",
         "2015",
         "2.0",
         "Alto",
         "feliz"
        ],
        [
         "4",
         "Canada",
         "North America",
         "5",
         "7.427",
         "1.32629",
         "1.32261",
         "0.90563",
         "0.63297",
         "0.32957",
         "0.45811",
         "2.45176",
         "2015",
         "2.0",
         "Alto",
         "feliz"
        ]
       ],
       "shape": {
        "columns": 15,
        "rows": 5
       }
      },
      "text/html": [
       "<div>\n",
       "<style scoped>\n",
       "    .dataframe tbody tr th:only-of-type {\n",
       "        vertical-align: middle;\n",
       "    }\n",
       "\n",
       "    .dataframe tbody tr th {\n",
       "        vertical-align: top;\n",
       "    }\n",
       "\n",
       "    .dataframe thead th {\n",
       "        text-align: right;\n",
       "    }\n",
       "</style>\n",
       "<table border=\"1\" class=\"dataframe\">\n",
       "  <thead>\n",
       "    <tr style=\"text-align: right;\">\n",
       "      <th></th>\n",
       "      <th>Country</th>\n",
       "      <th>Region</th>\n",
       "      <th>Happiness_Rank</th>\n",
       "      <th>Happiness_Score</th>\n",
       "      <th>GDP_per_Capita</th>\n",
       "      <th>Social_Support</th>\n",
       "      <th>Life_Expectancy</th>\n",
       "      <th>Freedom</th>\n",
       "      <th>Corruption_Perception</th>\n",
       "      <th>Generosity</th>\n",
       "      <th>Dystopia_Residual</th>\n",
       "      <th>Year</th>\n",
       "      <th>Cluster</th>\n",
       "      <th>Happiness_Level</th>\n",
       "      <th>Happiness Category</th>\n",
       "    </tr>\n",
       "  </thead>\n",
       "  <tbody>\n",
       "    <tr>\n",
       "      <th>0</th>\n",
       "      <td>Switzerland</td>\n",
       "      <td>Western Europe</td>\n",
       "      <td>1</td>\n",
       "      <td>7.587</td>\n",
       "      <td>1.39651</td>\n",
       "      <td>1.34951</td>\n",
       "      <td>0.94143</td>\n",
       "      <td>0.66557</td>\n",
       "      <td>0.41978</td>\n",
       "      <td>0.29678</td>\n",
       "      <td>2.51738</td>\n",
       "      <td>2015</td>\n",
       "      <td>2.0</td>\n",
       "      <td>Alto</td>\n",
       "      <td>feliz</td>\n",
       "    </tr>\n",
       "    <tr>\n",
       "      <th>1</th>\n",
       "      <td>Iceland</td>\n",
       "      <td>Western Europe</td>\n",
       "      <td>2</td>\n",
       "      <td>7.561</td>\n",
       "      <td>1.30232</td>\n",
       "      <td>1.40223</td>\n",
       "      <td>0.94784</td>\n",
       "      <td>0.62877</td>\n",
       "      <td>0.14145</td>\n",
       "      <td>0.43630</td>\n",
       "      <td>2.70201</td>\n",
       "      <td>2015</td>\n",
       "      <td>2.0</td>\n",
       "      <td>Alto</td>\n",
       "      <td>feliz</td>\n",
       "    </tr>\n",
       "    <tr>\n",
       "      <th>2</th>\n",
       "      <td>Denmark</td>\n",
       "      <td>Western Europe</td>\n",
       "      <td>3</td>\n",
       "      <td>7.527</td>\n",
       "      <td>1.32548</td>\n",
       "      <td>1.36058</td>\n",
       "      <td>0.87464</td>\n",
       "      <td>0.64938</td>\n",
       "      <td>0.48357</td>\n",
       "      <td>0.34139</td>\n",
       "      <td>2.49204</td>\n",
       "      <td>2015</td>\n",
       "      <td>2.0</td>\n",
       "      <td>Alto</td>\n",
       "      <td>feliz</td>\n",
       "    </tr>\n",
       "    <tr>\n",
       "      <th>3</th>\n",
       "      <td>Norway</td>\n",
       "      <td>Western Europe</td>\n",
       "      <td>4</td>\n",
       "      <td>7.522</td>\n",
       "      <td>1.45900</td>\n",
       "      <td>1.33095</td>\n",
       "      <td>0.88521</td>\n",
       "      <td>0.66973</td>\n",
       "      <td>0.36503</td>\n",
       "      <td>0.34699</td>\n",
       "      <td>2.46531</td>\n",
       "      <td>2015</td>\n",
       "      <td>2.0</td>\n",
       "      <td>Alto</td>\n",
       "      <td>feliz</td>\n",
       "    </tr>\n",
       "    <tr>\n",
       "      <th>4</th>\n",
       "      <td>Canada</td>\n",
       "      <td>North America</td>\n",
       "      <td>5</td>\n",
       "      <td>7.427</td>\n",
       "      <td>1.32629</td>\n",
       "      <td>1.32261</td>\n",
       "      <td>0.90563</td>\n",
       "      <td>0.63297</td>\n",
       "      <td>0.32957</td>\n",
       "      <td>0.45811</td>\n",
       "      <td>2.45176</td>\n",
       "      <td>2015</td>\n",
       "      <td>2.0</td>\n",
       "      <td>Alto</td>\n",
       "      <td>feliz</td>\n",
       "    </tr>\n",
       "  </tbody>\n",
       "</table>\n",
       "</div>"
      ],
      "text/plain": [
       "       Country          Region  Happiness_Rank  Happiness_Score  \\\n",
       "0  Switzerland  Western Europe               1            7.587   \n",
       "1      Iceland  Western Europe               2            7.561   \n",
       "2      Denmark  Western Europe               3            7.527   \n",
       "3       Norway  Western Europe               4            7.522   \n",
       "4       Canada   North America               5            7.427   \n",
       "\n",
       "   GDP_per_Capita  Social_Support  Life_Expectancy  Freedom  \\\n",
       "0         1.39651         1.34951          0.94143  0.66557   \n",
       "1         1.30232         1.40223          0.94784  0.62877   \n",
       "2         1.32548         1.36058          0.87464  0.64938   \n",
       "3         1.45900         1.33095          0.88521  0.66973   \n",
       "4         1.32629         1.32261          0.90563  0.63297   \n",
       "\n",
       "   Corruption_Perception  Generosity  Dystopia_Residual  Year  Cluster  \\\n",
       "0                0.41978     0.29678            2.51738  2015      2.0   \n",
       "1                0.14145     0.43630            2.70201  2015      2.0   \n",
       "2                0.48357     0.34139            2.49204  2015      2.0   \n",
       "3                0.36503     0.34699            2.46531  2015      2.0   \n",
       "4                0.32957     0.45811            2.45176  2015      2.0   \n",
       "\n",
       "  Happiness_Level Happiness Category  \n",
       "0            Alto              feliz  \n",
       "1            Alto              feliz  \n",
       "2            Alto              feliz  \n",
       "3            Alto              feliz  \n",
       "4            Alto              feliz  "
      ]
     },
     "execution_count": 124,
     "metadata": {},
     "output_type": "execute_result"
    }
   ],
   "source": [
    "df = pd.read_csv(\"C:/Users/Acer/OneDrive/Escritorio/Workshops y Proyectos/workshop3/datos/datos_procesados.csv\")\n",
    "df.head()"
   ]
  },
  {
   "cell_type": "markdown",
   "id": "1ce893fa",
   "metadata": {},
   "source": [
    "### Inspección de columnas\n",
    "Muestra todas las columnas del DataFrame para identificar las variables disponibles y facilitar el análisis posterior."
   ]
  },
  {
   "cell_type": "code",
   "execution_count": 125,
   "id": "df1897a6",
   "metadata": {},
   "outputs": [
    {
     "data": {
      "text/plain": [
       "Index(['Country', 'Region', 'Happiness_Rank', 'Happiness_Score',\n",
       "       'GDP_per_Capita', 'Social_Support', 'Life_Expectancy', 'Freedom',\n",
       "       'Corruption_Perception', 'Generosity', 'Dystopia_Residual', 'Year',\n",
       "       'Cluster', 'Happiness_Level', 'Happiness Category'],\n",
       "      dtype='object')"
      ]
     },
     "execution_count": 125,
     "metadata": {},
     "output_type": "execute_result"
    }
   ],
   "source": [
    "df.columns"
   ]
  },
  {
   "cell_type": "markdown",
   "id": "21d54eb4",
   "metadata": {},
   "source": [
    "## Preprocesamiento"
   ]
  },
  {
   "cell_type": "markdown",
   "id": "88d1d969",
   "metadata": {},
   "source": [
    "### Eliminación de columnas innecesarias\n",
    "Elimina columnas que no son relevantes para el modelo, como identificadores, rangos y columnas relacionadas con errores o intervalos de confianza, ignorando posibles errores si las columnas no existen."
   ]
  },
  {
   "cell_type": "code",
   "execution_count": 301,
   "id": "088e63b7",
   "metadata": {},
   "outputs": [],
   "source": [
    "columns_to_drop = [\n",
    "    'Happiness_Rank', 'Standard_Error', 'Lower_Confidence_Interval',\n",
    "    'Upper_Confidence_Interval', 'Whisker_High', 'Whisker_Low',\n",
    "    'Country', 'Year', 'Dystopia_Residual','Happiness Category','Happiness_Level','Cluster','Region_Unknown'\n",
    "]\n",
    "\n",
    "df_cleaned = df.drop(columns=columns_to_drop, errors='ignore')\n"
   ]
  },
  {
   "cell_type": "markdown",
   "id": "0b0e19e0",
   "metadata": {},
   "source": [
    "### Visualización de datos limpios\n",
    "Muestra las primeras cinco filas del DataFrame limpio tras la eliminación de columnas innecesarias para verificar los cambios."
   ]
  },
  {
   "cell_type": "code",
   "execution_count": 302,
   "id": "86083f97",
   "metadata": {},
   "outputs": [
    {
     "data": {
      "application/vnd.microsoft.datawrangler.viewer.v0+json": {
       "columns": [
        {
         "name": "index",
         "rawType": "int64",
         "type": "integer"
        },
        {
         "name": "Region",
         "rawType": "object",
         "type": "string"
        },
        {
         "name": "Happiness_Score",
         "rawType": "float64",
         "type": "float"
        },
        {
         "name": "GDP_per_Capita",
         "rawType": "float64",
         "type": "float"
        },
        {
         "name": "Social_Support",
         "rawType": "float64",
         "type": "float"
        },
        {
         "name": "Life_Expectancy",
         "rawType": "float64",
         "type": "float"
        },
        {
         "name": "Freedom",
         "rawType": "float64",
         "type": "float"
        },
        {
         "name": "Corruption_Perception",
         "rawType": "float64",
         "type": "float"
        },
        {
         "name": "Generosity",
         "rawType": "float64",
         "type": "float"
        }
       ],
       "ref": "d8489633-9318-49e3-9e7e-f0c44c918841",
       "rows": [
        [
         "0",
         "Western Europe",
         "7.587",
         "1.39651",
         "1.34951",
         "0.94143",
         "0.66557",
         "0.41978",
         "0.29678"
        ],
        [
         "1",
         "Western Europe",
         "7.561",
         "1.30232",
         "1.40223",
         "0.94784",
         "0.62877",
         "0.14145",
         "0.4363"
        ],
        [
         "2",
         "Western Europe",
         "7.527",
         "1.32548",
         "1.36058",
         "0.87464",
         "0.64938",
         "0.48357",
         "0.34139"
        ],
        [
         "3",
         "Western Europe",
         "7.522",
         "1.459",
         "1.33095",
         "0.88521",
         "0.66973",
         "0.36503",
         "0.34699"
        ],
        [
         "4",
         "North America",
         "7.427",
         "1.32629",
         "1.32261",
         "0.90563",
         "0.63297",
         "0.32957",
         "0.45811"
        ]
       ],
       "shape": {
        "columns": 8,
        "rows": 5
       }
      },
      "text/html": [
       "<div>\n",
       "<style scoped>\n",
       "    .dataframe tbody tr th:only-of-type {\n",
       "        vertical-align: middle;\n",
       "    }\n",
       "\n",
       "    .dataframe tbody tr th {\n",
       "        vertical-align: top;\n",
       "    }\n",
       "\n",
       "    .dataframe thead th {\n",
       "        text-align: right;\n",
       "    }\n",
       "</style>\n",
       "<table border=\"1\" class=\"dataframe\">\n",
       "  <thead>\n",
       "    <tr style=\"text-align: right;\">\n",
       "      <th></th>\n",
       "      <th>Region</th>\n",
       "      <th>Happiness_Score</th>\n",
       "      <th>GDP_per_Capita</th>\n",
       "      <th>Social_Support</th>\n",
       "      <th>Life_Expectancy</th>\n",
       "      <th>Freedom</th>\n",
       "      <th>Corruption_Perception</th>\n",
       "      <th>Generosity</th>\n",
       "    </tr>\n",
       "  </thead>\n",
       "  <tbody>\n",
       "    <tr>\n",
       "      <th>0</th>\n",
       "      <td>Western Europe</td>\n",
       "      <td>7.587</td>\n",
       "      <td>1.39651</td>\n",
       "      <td>1.34951</td>\n",
       "      <td>0.94143</td>\n",
       "      <td>0.66557</td>\n",
       "      <td>0.41978</td>\n",
       "      <td>0.29678</td>\n",
       "    </tr>\n",
       "    <tr>\n",
       "      <th>1</th>\n",
       "      <td>Western Europe</td>\n",
       "      <td>7.561</td>\n",
       "      <td>1.30232</td>\n",
       "      <td>1.40223</td>\n",
       "      <td>0.94784</td>\n",
       "      <td>0.62877</td>\n",
       "      <td>0.14145</td>\n",
       "      <td>0.43630</td>\n",
       "    </tr>\n",
       "    <tr>\n",
       "      <th>2</th>\n",
       "      <td>Western Europe</td>\n",
       "      <td>7.527</td>\n",
       "      <td>1.32548</td>\n",
       "      <td>1.36058</td>\n",
       "      <td>0.87464</td>\n",
       "      <td>0.64938</td>\n",
       "      <td>0.48357</td>\n",
       "      <td>0.34139</td>\n",
       "    </tr>\n",
       "    <tr>\n",
       "      <th>3</th>\n",
       "      <td>Western Europe</td>\n",
       "      <td>7.522</td>\n",
       "      <td>1.45900</td>\n",
       "      <td>1.33095</td>\n",
       "      <td>0.88521</td>\n",
       "      <td>0.66973</td>\n",
       "      <td>0.36503</td>\n",
       "      <td>0.34699</td>\n",
       "    </tr>\n",
       "    <tr>\n",
       "      <th>4</th>\n",
       "      <td>North America</td>\n",
       "      <td>7.427</td>\n",
       "      <td>1.32629</td>\n",
       "      <td>1.32261</td>\n",
       "      <td>0.90563</td>\n",
       "      <td>0.63297</td>\n",
       "      <td>0.32957</td>\n",
       "      <td>0.45811</td>\n",
       "    </tr>\n",
       "  </tbody>\n",
       "</table>\n",
       "</div>"
      ],
      "text/plain": [
       "           Region  Happiness_Score  GDP_per_Capita  Social_Support  \\\n",
       "0  Western Europe            7.587         1.39651         1.34951   \n",
       "1  Western Europe            7.561         1.30232         1.40223   \n",
       "2  Western Europe            7.527         1.32548         1.36058   \n",
       "3  Western Europe            7.522         1.45900         1.33095   \n",
       "4   North America            7.427         1.32629         1.32261   \n",
       "\n",
       "   Life_Expectancy  Freedom  Corruption_Perception  Generosity  \n",
       "0          0.94143  0.66557                0.41978     0.29678  \n",
       "1          0.94784  0.62877                0.14145     0.43630  \n",
       "2          0.87464  0.64938                0.48357     0.34139  \n",
       "3          0.88521  0.66973                0.36503     0.34699  \n",
       "4          0.90563  0.63297                0.32957     0.45811  "
      ]
     },
     "execution_count": 302,
     "metadata": {},
     "output_type": "execute_result"
    }
   ],
   "source": [
    "df_cleaned.head()"
   ]
  },
  {
   "cell_type": "markdown",
   "id": "fe8f9e68",
   "metadata": {},
   "source": [
    "### Inspección de datos limpios\n",
    "Muestra información detallada del DataFrame `df_cleaned`, incluyendo el número de entradas, columnas, tipos de datos y la presencia de valores nulos, para verificar la estructura y calidad de los datos tras el preprocesamiento."
   ]
  },
  {
   "cell_type": "code",
   "execution_count": 303,
   "id": "3028558a",
   "metadata": {},
   "outputs": [
    {
     "name": "stdout",
     "output_type": "stream",
     "text": [
      "<class 'pandas.core.frame.DataFrame'>\n",
      "RangeIndex: 782 entries, 0 to 781\n",
      "Data columns (total 8 columns):\n",
      " #   Column                 Non-Null Count  Dtype  \n",
      "---  ------                 --------------  -----  \n",
      " 0   Region                 782 non-null    object \n",
      " 1   Happiness_Score        782 non-null    float64\n",
      " 2   GDP_per_Capita         782 non-null    float64\n",
      " 3   Social_Support         782 non-null    float64\n",
      " 4   Life_Expectancy        782 non-null    float64\n",
      " 5   Freedom                782 non-null    float64\n",
      " 6   Corruption_Perception  782 non-null    float64\n",
      " 7   Generosity             782 non-null    float64\n",
      "dtypes: float64(7), object(1)\n",
      "memory usage: 49.0+ KB\n"
     ]
    }
   ],
   "source": [
    "df_cleaned.info()\n"
   ]
  },
  {
   "cell_type": "markdown",
   "id": "be8ab7bc",
   "metadata": {},
   "source": [
    "### Verificación de valores nulos\n",
    "Muestra la cantidad de valores nulos en cada columna del DataFrame `df_cleaned` para confirmar que los datos están completos después de las operaciones de limpieza."
   ]
  },
  {
   "cell_type": "code",
   "execution_count": 304,
   "id": "070512e4",
   "metadata": {},
   "outputs": [
    {
     "data": {
      "application/vnd.microsoft.datawrangler.viewer.v0+json": {
       "columns": [
        {
         "name": "index",
         "rawType": "object",
         "type": "string"
        },
        {
         "name": "0",
         "rawType": "int64",
         "type": "integer"
        }
       ],
       "ref": "b946d4de-38ba-4ba2-8fb5-75321f6b26cc",
       "rows": [
        [
         "Region",
         "0"
        ],
        [
         "Happiness_Score",
         "0"
        ],
        [
         "GDP_per_Capita",
         "0"
        ],
        [
         "Social_Support",
         "0"
        ],
        [
         "Life_Expectancy",
         "0"
        ],
        [
         "Freedom",
         "0"
        ],
        [
         "Corruption_Perception",
         "0"
        ],
        [
         "Generosity",
         "0"
        ]
       ],
       "shape": {
        "columns": 1,
        "rows": 8
       }
      },
      "text/plain": [
       "Region                   0\n",
       "Happiness_Score          0\n",
       "GDP_per_Capita           0\n",
       "Social_Support           0\n",
       "Life_Expectancy          0\n",
       "Freedom                  0\n",
       "Corruption_Perception    0\n",
       "Generosity               0\n",
       "dtype: int64"
      ]
     },
     "execution_count": 304,
     "metadata": {},
     "output_type": "execute_result"
    }
   ],
   "source": [
    "df_cleaned.isnull().sum()"
   ]
  },
  {
   "cell_type": "markdown",
   "id": "71a850d3",
   "metadata": {},
   "source": [
    "### Codificación de variables categóricas\n",
    "Aplica codificación (como LabelEncoder o One-Hot Encoding) a las columnas categóricas (`Region`, `Happiness_Level`, `Happiness Category`) para preparar los datos para el modelo.\n",
    "### Selección de características\n",
    "Define las variables independientes (X) seleccionando las columnas relevantes del DataFrame limpio y la variable dependiente (y) como `Happiness_Score`."
   ]
  },
  {
   "cell_type": "code",
   "execution_count": 305,
   "id": "47d8319d",
   "metadata": {},
   "outputs": [],
   "source": [
    "# Variables predictoras y objetivo\n",
    "X = df_cleaned.drop(columns=['Happiness_Score',])\n",
    "y = df_cleaned['Happiness_Score']\n",
    "\n",
    "# Codificar variables categóricas si existen (por ejemplo, 'Region')\n",
    "X = pd.get_dummies(X, drop_first=True)\n"
   ]
  },
  {
   "cell_type": "markdown",
   "id": "33f1545c",
   "metadata": {},
   "source": [
    "### División de datos en entrenamiento y prueba\n",
    "Divide el conjunto de datos en conjuntos de entrenamiento y prueba utilizando `train_test_split` para evaluar el rendimiento del modelo."
   ]
  },
  {
   "cell_type": "code",
   "execution_count": 306,
   "id": "3cddcce0",
   "metadata": {},
   "outputs": [],
   "source": [
    "X_train, X_test, y_train, y_test = train_test_split(X, y, test_size=0.2, random_state=42)"
   ]
  },
  {
   "cell_type": "code",
   "execution_count": 307,
   "id": "d0a7db40",
   "metadata": {},
   "outputs": [],
   "source": [
    "# Scaling the features\n",
    "scaler = StandardScaler()\n",
    "X_train_scaled = scaler.fit_transform(X_train)\n",
    "X_test_scaled = scaler.transform(X_test)"
   ]
  },
  {
   "cell_type": "code",
   "execution_count": 308,
   "id": "8cbe97c9",
   "metadata": {},
   "outputs": [
    {
     "data": {
      "text/plain": [
       "(625, 16)"
      ]
     },
     "execution_count": 308,
     "metadata": {},
     "output_type": "execute_result"
    }
   ],
   "source": [
    "X_train_scaled.shape\n"
   ]
  },
  {
   "cell_type": "code",
   "execution_count": 309,
   "id": "e9ed6566",
   "metadata": {},
   "outputs": [
    {
     "data": {
      "text/plain": [
       "(157, 16)"
      ]
     },
     "execution_count": 309,
     "metadata": {},
     "output_type": "execute_result"
    }
   ],
   "source": [
    "X_test_scaled.shape"
   ]
  },
  {
   "cell_type": "code",
   "execution_count": 310,
   "id": "3250ce01",
   "metadata": {},
   "outputs": [
    {
     "name": "stdout",
     "output_type": "stream",
     "text": [
      "Index(['GDP_per_Capita', 'Social_Support', 'Life_Expectancy', 'Freedom',\n",
      "       'Corruption_Perception', 'Generosity',\n",
      "       'Region_Central and Eastern Europe', 'Region_Eastern Asia',\n",
      "       'Region_Latin America and Caribbean',\n",
      "       'Region_Middle East and Northern Africa', 'Region_North America',\n",
      "       'Region_Southeastern Asia', 'Region_Southern Asia',\n",
      "       'Region_Sub-Saharan Africa', 'Region_Unknown', 'Region_Western Europe'],\n",
      "      dtype='object')\n"
     ]
    }
   ],
   "source": [
    "print(X_test.columns)  # Ver nombres de las columnas originales\n"
   ]
  },
  {
   "cell_type": "markdown",
   "id": "9f9f5ecb",
   "metadata": {},
   "source": [
    "### Entrenamiento y evaluación de modelos\n",
    "Entrena los modelos definidos en el diccionario `models` con el conjunto de entrenamiento, evalúa su rendimiento en los conjuntos de entrenamiento y prueba usando métricas como MSE, RMSE y R², e imprime los resultados. Luego, identifica y guarda el mejor modelo (con mayor R² en el conjunto de prueba) en un archivo `.pkl` para uso futuro."
   ]
  },
  {
   "cell_type": "code",
   "execution_count": 311,
   "id": "37b6891f",
   "metadata": {},
   "outputs": [
    {
     "name": "stdout",
     "output_type": "stream",
     "text": [
      "Linear Regression:\n",
      "Mean Squared Error:  0.3030532053518247\n",
      "R²:  0.7508561064193569\n",
      "\n"
     ]
    }
   ],
   "source": [
    "# Linear Regression\n",
    "linear_model = LinearRegression()\n",
    "linear_model.fit(X_train_scaled, y_train)\n",
    "y_pred_linear_model = linear_model.predict(X_test_scaled)\n",
    "print(\"Linear Regression:\")\n",
    "print(\"Mean Squared Error: \", mean_squared_error(y_test, y_pred_linear_model))\n",
    "print(\"R²: \", r2_score(y_test, y_pred_linear_model))\n",
    "print()"
   ]
  },
  {
   "cell_type": "code",
   "execution_count": 312,
   "id": "a0b7ecae",
   "metadata": {},
   "outputs": [
    {
     "name": "stdout",
     "output_type": "stream",
     "text": [
      "Ridge Regression:\n",
      "Mean Squared Error:  0.3033239974858689\n",
      "R²:  0.7506334847627125\n",
      "\n"
     ]
    }
   ],
   "source": [
    "# Ridge Regression\n",
    "ridge_model = Ridge(alpha=1.0)\n",
    "ridge_model.fit(X_train_scaled, y_train)\n",
    "y_pred_ridge = ridge_model.predict(X_test_scaled)\n",
    "print(\"Ridge Regression:\")\n",
    "print(\"Mean Squared Error: \", mean_squared_error(y_test, y_pred_ridge))\n",
    "print(\"R²: \", r2_score(y_test, y_pred_ridge))\n",
    "print()"
   ]
  },
  {
   "cell_type": "code",
   "execution_count": 313,
   "id": "f3d98e4d",
   "metadata": {},
   "outputs": [
    {
     "name": "stdout",
     "output_type": "stream",
     "text": [
      "Random Forest:\n",
      "Mean Squared Error:  0.21306059252131798\n",
      "R²:  0.8248401777247845\n",
      "\n"
     ]
    }
   ],
   "source": [
    "# Random Forest\n",
    "ranf_model = RandomForestRegressor(random_state=42)\n",
    "ranf_model.fit(X_train_scaled, y_train)\n",
    "y_pred_ranf_model = ranf_model.predict(X_test_scaled)\n",
    "print(\"Random Forest:\")\n",
    "print(\"Mean Squared Error: \", mean_squared_error(y_test, y_pred_ranf_model))\n",
    "print(\"R²: \", r2_score(y_test, y_pred_ranf_model))\n",
    "print()"
   ]
  },
  {
   "cell_type": "markdown",
   "id": "7fcd9cc5",
   "metadata": {},
   "source": [
    "### Guardado del modelo\n",
    "Guarda el modelo entrenado en un archivo utilizando `pickle` o `joblib` para su uso futuro."
   ]
  },
  {
   "cell_type": "code",
   "execution_count": 200,
   "id": "d3d72c7c",
   "metadata": {},
   "outputs": [
    {
     "data": {
      "text/plain": [
       "['C:\\\\Users\\\\Acer\\\\OneDrive\\\\Escritorio\\\\Workshops y Proyectos\\\\workshop3\\\\modelo\\\\ranf_model_model.pkl']"
      ]
     },
     "execution_count": 200,
     "metadata": {},
     "output_type": "execute_result"
    }
   ],
   "source": [
    "output_dir = r\"C:\\Users\\Acer\\OneDrive\\Escritorio\\Workshops y Proyectos\\workshop3\\modelo\"\n",
    "os.makedirs(output_dir, exist_ok=True)\n",
    "\n",
    "model_path = os.path.join(output_dir, \"ranf_model_model.pkl\")\n",
    "dump(ranf_model, model_path)"
   ]
  },
  {
   "cell_type": "markdown",
   "id": "54666b16",
   "metadata": {},
   "source": [
    "### 📊 Gráfico de Predicción vs Real\n",
    "\n",
    "Este gráfico compara los valores reales del `Happiness_Score` con los valores predichos por el modelo.  \n",
    "Idealmente, los puntos deberían alinearse cerca de la línea roja punteada, que representa una predicción perfecta.\n"
   ]
  },
  {
   "cell_type": "code",
   "execution_count": 249,
   "id": "c9b5104f",
   "metadata": {},
   "outputs": [
    {
     "data": {
      "image/png": "[encoded data removed]",
      "text/plain": [
       "<Figure size 800x600 with 1 Axes>"
      ]
     },
     "metadata": {},
     "output_type": "display_data"
    }
   ],
   "source": [
    "plt.figure(figsize=(8, 6))\n",
    "plt.scatter(y_test,y_pred_ranf_model, alpha=0.6, color='dodgerblue')\n",
    "plt.plot([y_test.min(), y_test.max()], [y_test.min(), y_test.max()], 'r--', lw=2)\n",
    "plt.xlabel('Valores Reales')\n",
    "plt.ylabel('Valores Predichos')\n",
    "plt.title('Comparación entre valores reales y predichos')\n",
    "plt.grid(True)\n",
    "plt.show()"
   ]
  },
  {
   "cell_type": "markdown",
   "id": "8110946c",
   "metadata": {},
   "source": [
    "### 🧮 Distribución de Errores\n",
    "\n",
    "Este histograma muestra los errores (residuos) del modelo.  \n",
    "Un buen modelo debería tener errores centrados cerca de 0 y una forma simétrica, lo que indica que no hay sesgo sistemático.\n"
   ]
  },
  {
   "cell_type": "code",
   "execution_count": 250,
   "id": "a8604e9d",
   "metadata": {},
   "outputs": [
    {
     "data": {
      "image/png": "[encoded data removed]",
      "text/plain": [
       "<Figure size 800x500 with 1 Axes>"
      ]
     },
     "metadata": {},
     "output_type": "display_data"
    }
   ],
   "source": [
    "errors = y_test - y_pred_ranf_model\n",
    "\n",
    "plt.figure(figsize=(8, 5))\n",
    "sns.histplot(errors, kde=True, color='orange')\n",
    "plt.title('Distribución de errores (residuos)')\n",
    "plt.xlabel('Error (y_test - y_pred)')\n",
    "plt.ylabel('Frecuencia')\n",
    "plt.grid(True)\n",
    "plt.show()\n"
   ]
  }
 ],
 "metadata": {
  "kernelspec": {
   "display_name": "Python 3",
   "language": "python",
   "name": "python3"
  },
  "language_info": {
   "codemirror_mode": {
    "name": "ipython",
    "version": 3
   },
   "file_extension": ".py",
   "mimetype": "text/x-python",
   "name": "python",
   "nbconvert_exporter": "python",
   "pygments_lexer": "ipython3",
   "version": "3.12.6"
  }
 },
 "nbformat": 4,
 "nbformat_minor": 5
}
