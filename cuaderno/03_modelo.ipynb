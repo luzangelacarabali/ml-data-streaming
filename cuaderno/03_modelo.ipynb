{
 "cells": [
  {
   "cell_type": "markdown",
   "id": "0e149f4c",
   "metadata": {},
   "source": [
    "### Importación de librerías\n",
    "Importa todas las librerías necesarias para el procesamiento de datos, visualización, creación y evaluación de modelos de machine learning, y almacenamiento de modelos."
   ]
  },
  {
   "cell_type": "code",
   "execution_count": 2,
   "id": "79d270f7",
   "metadata": {},
   "outputs": [],
   "source": [
    "import pandas as pd\n",
    "import numpy as np\n",
    "import matplotlib.pyplot as plt\n",
    "import seaborn as sns\n",
    "import os\n",
    "\n",
    "from sklearn.model_selection import train_test_split, GridSearchCV, cross_val_score\n",
    "from sklearn.linear_model import LinearRegression\n",
    "from sklearn.ensemble import RandomForestRegressor\n",
    "from xgboost import XGBRegressor\n",
    "from sklearn.svm import SVR\n",
    "from sklearn.linear_model import LinearRegression, RidgeCV, Ridge\n",
    "from sklearn.preprocessing import PolynomialFeatures\n",
    "from sklearn.metrics import mean_squared_error, r2_score\n",
    "from sklearn.preprocessing import StandardScaler, LabelEncoder, PolynomialFeatures\n",
    "from sklearn.pipeline import Pipeline\n",
    "from sklearn.feature_selection import SelectKBest, f_regression\n",
    "from sklearn.model_selection import GridSearchCV, RandomizedSearchCV\n",
    "from sklearn.impute import SimpleImputer\n",
    "\n",
    "\n",
    "import pickle\n",
    "import joblib"
   ]
  },
  {
   "cell_type": "markdown",
   "id": "41fe9acc",
   "metadata": {},
   "source": [
    "### Carga de datos\n",
    "Carga el archivo CSV con los datos procesados y muestra las primeras cinco filas del DataFrame para verificar su contenido."
   ]
  },
  {
   "cell_type": "code",
   "execution_count": 4,
   "id": "10137bdc",
   "metadata": {},
   "outputs": [
    {
     "data": {
      "application/vnd.microsoft.datawrangler.viewer.v0+json": {
       "columns": [
        {
         "name": "index",
         "rawType": "int64",
         "type": "integer"
        },
        {
         "name": "Country",
         "rawType": "object",
         "type": "string"
        },
        {
         "name": "Region",
         "rawType": "object",
         "type": "string"
        },
        {
         "name": "Happiness_Rank",
         "rawType": "int64",
         "type": "integer"
        },
        {
         "name": "Happiness_Score",
         "rawType": "float64",
         "type": "float"
        },
        {
         "name": "GDP_per_Capita",
         "rawType": "float64",
         "type": "float"
        },
        {
         "name": "Social_Support",
         "rawType": "float64",
         "type": "float"
        },
        {
         "name": "Life_Expectancy",
         "rawType": "float64",
         "type": "float"
        },
        {
         "name": "Freedom",
         "rawType": "float64",
         "type": "float"
        },
        {
         "name": "Corruption_Perception",
         "rawType": "float64",
         "type": "float"
        },
        {
         "name": "Generosity",
         "rawType": "float64",
         "type": "float"
        },
        {
         "name": "Dystopia_Residual",
         "rawType": "float64",
         "type": "float"
        },
        {
         "name": "Year",
         "rawType": "int64",
         "type": "integer"
        },
        {
         "name": "Cluster",
         "rawType": "float64",
         "type": "float"
        },
        {
         "name": "Happiness_Level",
         "rawType": "object",
         "type": "string"
        },
        {
         "name": "Happiness Category",
         "rawType": "object",
         "type": "string"
        }
       ],
       "conversionMethod": "pd.DataFrame",
       "ref": "4df4d712-0a42-4178-bfa3-15956447c951",
       "rows": [
        [
         "0",
         "Switzerland",
         "Western Europe",
         "1",
         "7.587",
         "1.39651",
         "1.34951",
         "0.94143",
         "0.66557",
         "0.41978",
         "0.29678",
         "2.51738",
         "2015",
         "2.0",
         "Alto",
         "feliz"
        ],
        [
         "1",
         "Iceland",
         "Western Europe",
         "2",
         "7.561",
         "1.30232",
         "1.40223",
         "0.94784",
         "0.62877",
         "0.14145",
         "0.4363",
         "2.70201",
         "2015",
         "2.0",
         "Alto",
         "feliz"
        ],
        [
         "2",
         "Denmark",
         "Western Europe",
         "3",
         "7.527",
         "1.32548",
         "1.36058",
         "0.87464",
         "0.64938",
         "0.48357",
         "0.34139",
         "2.49204",
         "2015",
         "2.0",
         "Alto",
         "feliz"
        ],
        [
         "3",
         "Norway",
         "Western Europe",
         "4",
         "7.522",
         "1.459",
         "1.33095",
         "0.88521",
         "0.66973",
         "0.36503",
         "0.34699",
         "2.46531",
         "2015",
         "2.0",
         "Alto",
         "feliz"
        ],
        [
         "4",
         "Canada",
         "North America",
         "5",
         "7.427",
         "1.32629",
         "1.32261",
         "0.90563",
         "0.63297",
         "0.32957",
         "0.45811",
         "2.45176",
         "2015",
         "2.0",
         "Alto",
         "feliz"
        ]
       ],
       "shape": {
        "columns": 15,
        "rows": 5
       }
      },
      "text/html": [
       "<div>\n",
       "<style scoped>\n",
       "    .dataframe tbody tr th:only-of-type {\n",
       "        vertical-align: middle;\n",
       "    }\n",
       "\n",
       "    .dataframe tbody tr th {\n",
       "        vertical-align: top;\n",
       "    }\n",
       "\n",
       "    .dataframe thead th {\n",
       "        text-align: right;\n",
       "    }\n",
       "</style>\n",
       "<table border=\"1\" class=\"dataframe\">\n",
       "  <thead>\n",
       "    <tr style=\"text-align: right;\">\n",
       "      <th></th>\n",
       "      <th>Country</th>\n",
       "      <th>Region</th>\n",
       "      <th>Happiness_Rank</th>\n",
       "      <th>Happiness_Score</th>\n",
       "      <th>GDP_per_Capita</th>\n",
       "      <th>Social_Support</th>\n",
       "      <th>Life_Expectancy</th>\n",
       "      <th>Freedom</th>\n",
       "      <th>Corruption_Perception</th>\n",
       "      <th>Generosity</th>\n",
       "      <th>Dystopia_Residual</th>\n",
       "      <th>Year</th>\n",
       "      <th>Cluster</th>\n",
       "      <th>Happiness_Level</th>\n",
       "      <th>Happiness Category</th>\n",
       "    </tr>\n",
       "  </thead>\n",
       "  <tbody>\n",
       "    <tr>\n",
       "      <th>0</th>\n",
       "      <td>Switzerland</td>\n",
       "      <td>Western Europe</td>\n",
       "      <td>1</td>\n",
       "      <td>7.587</td>\n",
       "      <td>1.39651</td>\n",
       "      <td>1.34951</td>\n",
       "      <td>0.94143</td>\n",
       "      <td>0.66557</td>\n",
       "      <td>0.41978</td>\n",
       "      <td>0.29678</td>\n",
       "      <td>2.51738</td>\n",
       "      <td>2015</td>\n",
       "      <td>2.0</td>\n",
       "      <td>Alto</td>\n",
       "      <td>feliz</td>\n",
       "    </tr>\n",
       "    <tr>\n",
       "      <th>1</th>\n",
       "      <td>Iceland</td>\n",
       "      <td>Western Europe</td>\n",
       "      <td>2</td>\n",
       "      <td>7.561</td>\n",
       "      <td>1.30232</td>\n",
       "      <td>1.40223</td>\n",
       "      <td>0.94784</td>\n",
       "      <td>0.62877</td>\n",
       "      <td>0.14145</td>\n",
       "      <td>0.43630</td>\n",
       "      <td>2.70201</td>\n",
       "      <td>2015</td>\n",
       "      <td>2.0</td>\n",
       "      <td>Alto</td>\n",
       "      <td>feliz</td>\n",
       "    </tr>\n",
       "    <tr>\n",
       "      <th>2</th>\n",
       "      <td>Denmark</td>\n",
       "      <td>Western Europe</td>\n",
       "      <td>3</td>\n",
       "      <td>7.527</td>\n",
       "      <td>1.32548</td>\n",
       "      <td>1.36058</td>\n",
       "      <td>0.87464</td>\n",
       "      <td>0.64938</td>\n",
       "      <td>0.48357</td>\n",
       "      <td>0.34139</td>\n",
       "      <td>2.49204</td>\n",
       "      <td>2015</td>\n",
       "      <td>2.0</td>\n",
       "      <td>Alto</td>\n",
       "      <td>feliz</td>\n",
       "    </tr>\n",
       "    <tr>\n",
       "      <th>3</th>\n",
       "      <td>Norway</td>\n",
       "      <td>Western Europe</td>\n",
       "      <td>4</td>\n",
       "      <td>7.522</td>\n",
       "      <td>1.45900</td>\n",
       "      <td>1.33095</td>\n",
       "      <td>0.88521</td>\n",
       "      <td>0.66973</td>\n",
       "      <td>0.36503</td>\n",
       "      <td>0.34699</td>\n",
       "      <td>2.46531</td>\n",
       "      <td>2015</td>\n",
       "      <td>2.0</td>\n",
       "      <td>Alto</td>\n",
       "      <td>feliz</td>\n",
       "    </tr>\n",
       "    <tr>\n",
       "      <th>4</th>\n",
       "      <td>Canada</td>\n",
       "      <td>North America</td>\n",
       "      <td>5</td>\n",
       "      <td>7.427</td>\n",
       "      <td>1.32629</td>\n",
       "      <td>1.32261</td>\n",
       "      <td>0.90563</td>\n",
       "      <td>0.63297</td>\n",
       "      <td>0.32957</td>\n",
       "      <td>0.45811</td>\n",
       "      <td>2.45176</td>\n",
       "      <td>2015</td>\n",
       "      <td>2.0</td>\n",
       "      <td>Alto</td>\n",
       "      <td>feliz</td>\n",
       "    </tr>\n",
       "  </tbody>\n",
       "</table>\n",
       "</div>"
      ],
      "text/plain": [
       "       Country          Region  Happiness_Rank  Happiness_Score  \\\n",
       "0  Switzerland  Western Europe               1            7.587   \n",
       "1      Iceland  Western Europe               2            7.561   \n",
       "2      Denmark  Western Europe               3            7.527   \n",
       "3       Norway  Western Europe               4            7.522   \n",
       "4       Canada   North America               5            7.427   \n",
       "\n",
       "   GDP_per_Capita  Social_Support  Life_Expectancy  Freedom  \\\n",
       "0         1.39651         1.34951          0.94143  0.66557   \n",
       "1         1.30232         1.40223          0.94784  0.62877   \n",
       "2         1.32548         1.36058          0.87464  0.64938   \n",
       "3         1.45900         1.33095          0.88521  0.66973   \n",
       "4         1.32629         1.32261          0.90563  0.63297   \n",
       "\n",
       "   Corruption_Perception  Generosity  Dystopia_Residual  Year  Cluster  \\\n",
       "0                0.41978     0.29678            2.51738  2015      2.0   \n",
       "1                0.14145     0.43630            2.70201  2015      2.0   \n",
       "2                0.48357     0.34139            2.49204  2015      2.0   \n",
       "3                0.36503     0.34699            2.46531  2015      2.0   \n",
       "4                0.32957     0.45811            2.45176  2015      2.0   \n",
       "\n",
       "  Happiness_Level Happiness Category  \n",
       "0            Alto              feliz  \n",
       "1            Alto              feliz  \n",
       "2            Alto              feliz  \n",
       "3            Alto              feliz  \n",
       "4            Alto              feliz  "
      ]
     },
     "execution_count": 4,
     "metadata": {},
     "output_type": "execute_result"
    }
   ],
   "source": [
    "df = pd.read_csv(\"C:/Users/Acer/OneDrive/Escritorio/Workshops y Proyectos/workshop3/datos/datos_procesados.csv\")\n",
    "df.head()"
   ]
  },
  {
   "cell_type": "markdown",
   "id": "1ce893fa",
   "metadata": {},
   "source": [
    "### Inspección de columnas\n",
    "Muestra todas las columnas del DataFrame para identificar las variables disponibles y facilitar el análisis posterior."
   ]
  },
  {
   "cell_type": "code",
   "execution_count": 5,
   "id": "df1897a6",
   "metadata": {},
   "outputs": [
    {
     "data": {
      "text/plain": [
       "Index(['Country', 'Region', 'Happiness_Rank', 'Happiness_Score',\n",
       "       'GDP_per_Capita', 'Social_Support', 'Life_Expectancy', 'Freedom',\n",
       "       'Corruption_Perception', 'Generosity', 'Dystopia_Residual', 'Year',\n",
       "       'Cluster', 'Happiness_Level', 'Happiness Category'],\n",
       "      dtype='object')"
      ]
     },
     "execution_count": 5,
     "metadata": {},
     "output_type": "execute_result"
    }
   ],
   "source": [
    "df.columns"
   ]
  },
  {
   "cell_type": "markdown",
   "id": "21d54eb4",
   "metadata": {},
   "source": [
    "## Preprocesamiento"
   ]
  },
  {
   "cell_type": "markdown",
   "id": "88d1d969",
   "metadata": {},
   "source": [
    "### Eliminación de columnas innecesarias\n",
    "Elimina columnas que no son relevantes para el modelo, como identificadores, rangos y columnas relacionadas con errores o intervalos de confianza, ignorando posibles errores si las columnas no existen."
   ]
  },
  {
   "cell_type": "code",
   "execution_count": 6,
   "id": "088e63b7",
   "metadata": {},
   "outputs": [],
   "source": [
    "columns_to_drop = [\n",
    "    'Happiness_Rank', 'Standard_Error', 'Lower_Confidence_Interval',\n",
    "    'Upper_Confidence_Interval', 'Whisker_High', 'Whisker_Low',\n",
    "    'Country', 'Year'\n",
    "]\n",
    "\n",
    "df_cleaned = df.drop(columns=columns_to_drop, errors='ignore')\n"
   ]
  },
  {
   "cell_type": "markdown",
   "id": "0b0e19e0",
   "metadata": {},
   "source": [
    "### Visualización de datos limpios\n",
    "Muestra las primeras cinco filas del DataFrame limpio tras la eliminación de columnas innecesarias para verificar los cambios."
   ]
  },
  {
   "cell_type": "code",
   "execution_count": 7,
   "id": "86083f97",
   "metadata": {},
   "outputs": [
    {
     "data": {
      "application/vnd.microsoft.datawrangler.viewer.v0+json": {
       "columns": [
        {
         "name": "index",
         "rawType": "int64",
         "type": "integer"
        },
        {
         "name": "Region",
         "rawType": "object",
         "type": "string"
        },
        {
         "name": "Happiness_Score",
         "rawType": "float64",
         "type": "float"
        },
        {
         "name": "GDP_per_Capita",
         "rawType": "float64",
         "type": "float"
        },
        {
         "name": "Social_Support",
         "rawType": "float64",
         "type": "float"
        },
        {
         "name": "Life_Expectancy",
         "rawType": "float64",
         "type": "float"
        },
        {
         "name": "Freedom",
         "rawType": "float64",
         "type": "float"
        },
        {
         "name": "Corruption_Perception",
         "rawType": "float64",
         "type": "float"
        },
        {
         "name": "Generosity",
         "rawType": "float64",
         "type": "float"
        },
        {
         "name": "Dystopia_Residual",
         "rawType": "float64",
         "type": "float"
        },
        {
         "name": "Cluster",
         "rawType": "float64",
         "type": "float"
        },
        {
         "name": "Happiness_Level",
         "rawType": "object",
         "type": "string"
        },
        {
         "name": "Happiness Category",
         "rawType": "object",
         "type": "string"
        }
       ],
       "conversionMethod": "pd.DataFrame",
       "ref": "61a80da8-4927-41d7-ba6b-a438b02218d4",
       "rows": [
        [
         "0",
         "Western Europe",
         "7.587",
         "1.39651",
         "1.34951",
         "0.94143",
         "0.66557",
         "0.41978",
         "0.29678",
         "2.51738",
         "2.0",
         "Alto",
         "feliz"
        ],
        [
         "1",
         "Western Europe",
         "7.561",
         "1.30232",
         "1.40223",
         "0.94784",
         "0.62877",
         "0.14145",
         "0.4363",
         "2.70201",
         "2.0",
         "Alto",
         "feliz"
        ],
        [
         "2",
         "Western Europe",
         "7.527",
         "1.32548",
         "1.36058",
         "0.87464",
         "0.64938",
         "0.48357",
         "0.34139",
         "2.49204",
         "2.0",
         "Alto",
         "feliz"
        ],
        [
         "3",
         "Western Europe",
         "7.522",
         "1.459",
         "1.33095",
         "0.88521",
         "0.66973",
         "0.36503",
         "0.34699",
         "2.46531",
         "2.0",
         "Alto",
         "feliz"
        ],
        [
         "4",
         "North America",
         "7.427",
         "1.32629",
         "1.32261",
         "0.90563",
         "0.63297",
         "0.32957",
         "0.45811",
         "2.45176",
         "2.0",
         "Alto",
         "feliz"
        ]
       ],
       "shape": {
        "columns": 12,
        "rows": 5
       }
      },
      "text/html": [
       "<div>\n",
       "<style scoped>\n",
       "    .dataframe tbody tr th:only-of-type {\n",
       "        vertical-align: middle;\n",
       "    }\n",
       "\n",
       "    .dataframe tbody tr th {\n",
       "        vertical-align: top;\n",
       "    }\n",
       "\n",
       "    .dataframe thead th {\n",
       "        text-align: right;\n",
       "    }\n",
       "</style>\n",
       "<table border=\"1\" class=\"dataframe\">\n",
       "  <thead>\n",
       "    <tr style=\"text-align: right;\">\n",
       "      <th></th>\n",
       "      <th>Region</th>\n",
       "      <th>Happiness_Score</th>\n",
       "      <th>GDP_per_Capita</th>\n",
       "      <th>Social_Support</th>\n",
       "      <th>Life_Expectancy</th>\n",
       "      <th>Freedom</th>\n",
       "      <th>Corruption_Perception</th>\n",
       "      <th>Generosity</th>\n",
       "      <th>Dystopia_Residual</th>\n",
       "      <th>Cluster</th>\n",
       "      <th>Happiness_Level</th>\n",
       "      <th>Happiness Category</th>\n",
       "    </tr>\n",
       "  </thead>\n",
       "  <tbody>\n",
       "    <tr>\n",
       "      <th>0</th>\n",
       "      <td>Western Europe</td>\n",
       "      <td>7.587</td>\n",
       "      <td>1.39651</td>\n",
       "      <td>1.34951</td>\n",
       "      <td>0.94143</td>\n",
       "      <td>0.66557</td>\n",
       "      <td>0.41978</td>\n",
       "      <td>0.29678</td>\n",
       "      <td>2.51738</td>\n",
       "      <td>2.0</td>\n",
       "      <td>Alto</td>\n",
       "      <td>feliz</td>\n",
       "    </tr>\n",
       "    <tr>\n",
       "      <th>1</th>\n",
       "      <td>Western Europe</td>\n",
       "      <td>7.561</td>\n",
       "      <td>1.30232</td>\n",
       "      <td>1.40223</td>\n",
       "      <td>0.94784</td>\n",
       "      <td>0.62877</td>\n",
       "      <td>0.14145</td>\n",
       "      <td>0.43630</td>\n",
       "      <td>2.70201</td>\n",
       "      <td>2.0</td>\n",
       "      <td>Alto</td>\n",
       "      <td>feliz</td>\n",
       "    </tr>\n",
       "    <tr>\n",
       "      <th>2</th>\n",
       "      <td>Western Europe</td>\n",
       "      <td>7.527</td>\n",
       "      <td>1.32548</td>\n",
       "      <td>1.36058</td>\n",
       "      <td>0.87464</td>\n",
       "      <td>0.64938</td>\n",
       "      <td>0.48357</td>\n",
       "      <td>0.34139</td>\n",
       "      <td>2.49204</td>\n",
       "      <td>2.0</td>\n",
       "      <td>Alto</td>\n",
       "      <td>feliz</td>\n",
       "    </tr>\n",
       "    <tr>\n",
       "      <th>3</th>\n",
       "      <td>Western Europe</td>\n",
       "      <td>7.522</td>\n",
       "      <td>1.45900</td>\n",
       "      <td>1.33095</td>\n",
       "      <td>0.88521</td>\n",
       "      <td>0.66973</td>\n",
       "      <td>0.36503</td>\n",
       "      <td>0.34699</td>\n",
       "      <td>2.46531</td>\n",
       "      <td>2.0</td>\n",
       "      <td>Alto</td>\n",
       "      <td>feliz</td>\n",
       "    </tr>\n",
       "    <tr>\n",
       "      <th>4</th>\n",
       "      <td>North America</td>\n",
       "      <td>7.427</td>\n",
       "      <td>1.32629</td>\n",
       "      <td>1.32261</td>\n",
       "      <td>0.90563</td>\n",
       "      <td>0.63297</td>\n",
       "      <td>0.32957</td>\n",
       "      <td>0.45811</td>\n",
       "      <td>2.45176</td>\n",
       "      <td>2.0</td>\n",
       "      <td>Alto</td>\n",
       "      <td>feliz</td>\n",
       "    </tr>\n",
       "  </tbody>\n",
       "</table>\n",
       "</div>"
      ],
      "text/plain": [
       "           Region  Happiness_Score  GDP_per_Capita  Social_Support  \\\n",
       "0  Western Europe            7.587         1.39651         1.34951   \n",
       "1  Western Europe            7.561         1.30232         1.40223   \n",
       "2  Western Europe            7.527         1.32548         1.36058   \n",
       "3  Western Europe            7.522         1.45900         1.33095   \n",
       "4   North America            7.427         1.32629         1.32261   \n",
       "\n",
       "   Life_Expectancy  Freedom  Corruption_Perception  Generosity  \\\n",
       "0          0.94143  0.66557                0.41978     0.29678   \n",
       "1          0.94784  0.62877                0.14145     0.43630   \n",
       "2          0.87464  0.64938                0.48357     0.34139   \n",
       "3          0.88521  0.66973                0.36503     0.34699   \n",
       "4          0.90563  0.63297                0.32957     0.45811   \n",
       "\n",
       "   Dystopia_Residual  Cluster Happiness_Level Happiness Category  \n",
       "0            2.51738      2.0            Alto              feliz  \n",
       "1            2.70201      2.0            Alto              feliz  \n",
       "2            2.49204      2.0            Alto              feliz  \n",
       "3            2.46531      2.0            Alto              feliz  \n",
       "4            2.45176      2.0            Alto              feliz  "
      ]
     },
     "execution_count": 7,
     "metadata": {},
     "output_type": "execute_result"
    }
   ],
   "source": [
    "df_cleaned.head()"
   ]
  },
  {
   "cell_type": "markdown",
   "id": "fe8f9e68",
   "metadata": {},
   "source": [
    "### Inspección de datos limpios\n",
    "Muestra información detallada del DataFrame `df_cleaned`, incluyendo el número de entradas, columnas, tipos de datos y la presencia de valores nulos, para verificar la estructura y calidad de los datos tras el preprocesamiento."
   ]
  },
  {
   "cell_type": "code",
   "execution_count": 8,
   "id": "3028558a",
   "metadata": {},
   "outputs": [
    {
     "name": "stdout",
     "output_type": "stream",
     "text": [
      "<class 'pandas.core.frame.DataFrame'>\n",
      "RangeIndex: 782 entries, 0 to 781\n",
      "Data columns (total 12 columns):\n",
      " #   Column                 Non-Null Count  Dtype  \n",
      "---  ------                 --------------  -----  \n",
      " 0   Region                 782 non-null    object \n",
      " 1   Happiness_Score        782 non-null    float64\n",
      " 2   GDP_per_Capita         782 non-null    float64\n",
      " 3   Social_Support         782 non-null    float64\n",
      " 4   Life_Expectancy        782 non-null    float64\n",
      " 5   Freedom                782 non-null    float64\n",
      " 6   Corruption_Perception  782 non-null    float64\n",
      " 7   Generosity             782 non-null    float64\n",
      " 8   Dystopia_Residual      470 non-null    float64\n",
      " 9   Cluster                782 non-null    float64\n",
      " 10  Happiness_Level        782 non-null    object \n",
      " 11  Happiness Category     782 non-null    object \n",
      "dtypes: float64(9), object(3)\n",
      "memory usage: 73.4+ KB\n"
     ]
    }
   ],
   "source": [
    "df_cleaned.info()\n",
    "\n"
   ]
  },
  {
   "cell_type": "markdown",
   "id": "76f56ae5",
   "metadata": {},
   "source": [
    "### Eliminación de filas con valores nulos en Dystopia_Residual\n",
    "Elimina las filas del DataFrame `df_cleaned` donde la columna `Dystopia_Residual` contiene valores nulos para asegurar que los datos sean completos antes de entrenar el modelo."
   ]
  },
  {
   "cell_type": "code",
   "execution_count": 9,
   "id": "562856fb",
   "metadata": {},
   "outputs": [],
   "source": [
    "df_cleaned = df_cleaned.dropna(subset=['Dystopia_Residual'])"
   ]
  },
  {
   "cell_type": "markdown",
   "id": "be8ab7bc",
   "metadata": {},
   "source": [
    "### Verificación de valores nulos\n",
    "Muestra la cantidad de valores nulos en cada columna del DataFrame `df_cleaned` para confirmar que los datos están completos después de las operaciones de limpieza."
   ]
  },
  {
   "cell_type": "code",
   "execution_count": 10,
   "id": "070512e4",
   "metadata": {},
   "outputs": [
    {
     "data": {
      "text/plain": [
       "Region                   0\n",
       "Happiness_Score          0\n",
       "GDP_per_Capita           0\n",
       "Social_Support           0\n",
       "Life_Expectancy          0\n",
       "Freedom                  0\n",
       "Corruption_Perception    0\n",
       "Generosity               0\n",
       "Dystopia_Residual        0\n",
       "Cluster                  0\n",
       "Happiness_Level          0\n",
       "Happiness Category       0\n",
       "dtype: int64"
      ]
     },
     "execution_count": 10,
     "metadata": {},
     "output_type": "execute_result"
    }
   ],
   "source": [
    "df_cleaned.isnull().sum()"
   ]
  },
  {
   "cell_type": "markdown",
   "id": "42d06699",
   "metadata": {},
   "source": [
    "### Escalado de características numéricas\n",
    "Aplica `StandardScaler` para normalizar las columnas numéricas (`GDP_per_Capita`, `Social_Support`, `Life_Expectancy`, `Freedom`) y verifica que los datos estén correctamente escalados mostrando las primeras filas del DataFrame resultante."
   ]
  },
  {
   "cell_type": "code",
   "execution_count": 11,
   "id": "1280626e",
   "metadata": {},
   "outputs": [
    {
     "data": {
      "application/vnd.microsoft.datawrangler.viewer.v0+json": {
       "columns": [
        {
         "name": "index",
         "rawType": "int64",
         "type": "integer"
        },
        {
         "name": "Region",
         "rawType": "object",
         "type": "string"
        },
        {
         "name": "Happiness_Score",
         "rawType": "float64",
         "type": "float"
        },
        {
         "name": "GDP_per_Capita",
         "rawType": "float64",
         "type": "float"
        },
        {
         "name": "Social_Support",
         "rawType": "float64",
         "type": "float"
        },
        {
         "name": "Life_Expectancy",
         "rawType": "float64",
         "type": "float"
        },
        {
         "name": "Freedom",
         "rawType": "float64",
         "type": "float"
        },
        {
         "name": "Corruption_Perception",
         "rawType": "float64",
         "type": "float"
        },
        {
         "name": "Generosity",
         "rawType": "float64",
         "type": "float"
        },
        {
         "name": "Dystopia_Residual",
         "rawType": "float64",
         "type": "float"
        },
        {
         "name": "Cluster",
         "rawType": "float64",
         "type": "float"
        },
        {
         "name": "Happiness_Level",
         "rawType": "object",
         "type": "string"
        },
        {
         "name": "Happiness Category",
         "rawType": "object",
         "type": "string"
        }
       ],
       "conversionMethod": "pd.DataFrame",
       "ref": "7fa5e2d5-d647-42b2-b6c2-7cb7e87fac21",
       "rows": [
        [
         "0",
         "Western Europe",
         "7.587",
         "1.1289639954519732",
         "1.1281393849697436",
         "1.5066870003380497",
         "1.7493323148893738",
         "2.56298717389753",
         "0.29678",
         "0.751391084497412",
         "2.0",
         "Alto",
         "feliz"
        ],
        [
         "1",
         "Western Europe",
         "7.561",
         "0.9020775615480191",
         "1.2937339727889945",
         "1.5334058943941984",
         "1.5043187303649812",
         "0.05989666837483265",
         "0.4363",
         "1.0780718117546826",
         "2.0",
         "Alto",
         "feliz"
        ],
        [
         "2",
         "Western Europe",
         "7.527",
         "0.9578657535982961",
         "1.1629104791874807",
         "1.2282852945642335",
         "1.6415396536543212",
         "3.1366664156152497",
         "0.34139",
         "0.7065549818667487",
         "2.0",
         "Alto",
         "feliz"
        ],
        [
         "3",
         "Western Europe",
         "7.522",
         "1.2794909436912572",
         "1.0698420490455163",
         "1.2723443757145443",
         "1.777029502705175",
         "2.0706068872688244",
         "0.34699",
         "0.6592594402993612",
         "2.0",
         "Alto",
         "feliz"
        ],
        [
         "4",
         "North America",
         "7.427",
         "0.9598168950301063",
         "1.043645940122668",
         "1.3574613517873295",
         "1.5322822372943954",
         "1.7517063399838213",
         "0.45811",
         "0.6352843341176139",
         "2.0",
         "Alto",
         "feliz"
        ]
       ],
       "shape": {
        "columns": 12,
        "rows": 5
       }
      },
      "text/html": [
       "<div>\n",
       "<style scoped>\n",
       "    .dataframe tbody tr th:only-of-type {\n",
       "        vertical-align: middle;\n",
       "    }\n",
       "\n",
       "    .dataframe tbody tr th {\n",
       "        vertical-align: top;\n",
       "    }\n",
       "\n",
       "    .dataframe thead th {\n",
       "        text-align: right;\n",
       "    }\n",
       "</style>\n",
       "<table border=\"1\" class=\"dataframe\">\n",
       "  <thead>\n",
       "    <tr style=\"text-align: right;\">\n",
       "      <th></th>\n",
       "      <th>Region</th>\n",
       "      <th>Happiness_Score</th>\n",
       "      <th>GDP_per_Capita</th>\n",
       "      <th>Social_Support</th>\n",
       "      <th>Life_Expectancy</th>\n",
       "      <th>Freedom</th>\n",
       "      <th>Corruption_Perception</th>\n",
       "      <th>Generosity</th>\n",
       "      <th>Dystopia_Residual</th>\n",
       "      <th>Cluster</th>\n",
       "      <th>Happiness_Level</th>\n",
       "      <th>Happiness Category</th>\n",
       "    </tr>\n",
       "  </thead>\n",
       "  <tbody>\n",
       "    <tr>\n",
       "      <th>0</th>\n",
       "      <td>Western Europe</td>\n",
       "      <td>7.587</td>\n",
       "      <td>1.128964</td>\n",
       "      <td>1.128139</td>\n",
       "      <td>1.506687</td>\n",
       "      <td>1.749332</td>\n",
       "      <td>2.562987</td>\n",
       "      <td>0.29678</td>\n",
       "      <td>0.751391</td>\n",
       "      <td>2.0</td>\n",
       "      <td>Alto</td>\n",
       "      <td>feliz</td>\n",
       "    </tr>\n",
       "    <tr>\n",
       "      <th>1</th>\n",
       "      <td>Western Europe</td>\n",
       "      <td>7.561</td>\n",
       "      <td>0.902078</td>\n",
       "      <td>1.293734</td>\n",
       "      <td>1.533406</td>\n",
       "      <td>1.504319</td>\n",
       "      <td>0.059897</td>\n",
       "      <td>0.43630</td>\n",
       "      <td>1.078072</td>\n",
       "      <td>2.0</td>\n",
       "      <td>Alto</td>\n",
       "      <td>feliz</td>\n",
       "    </tr>\n",
       "    <tr>\n",
       "      <th>2</th>\n",
       "      <td>Western Europe</td>\n",
       "      <td>7.527</td>\n",
       "      <td>0.957866</td>\n",
       "      <td>1.162910</td>\n",
       "      <td>1.228285</td>\n",
       "      <td>1.641540</td>\n",
       "      <td>3.136666</td>\n",
       "      <td>0.34139</td>\n",
       "      <td>0.706555</td>\n",
       "      <td>2.0</td>\n",
       "      <td>Alto</td>\n",
       "      <td>feliz</td>\n",
       "    </tr>\n",
       "    <tr>\n",
       "      <th>3</th>\n",
       "      <td>Western Europe</td>\n",
       "      <td>7.522</td>\n",
       "      <td>1.279491</td>\n",
       "      <td>1.069842</td>\n",
       "      <td>1.272344</td>\n",
       "      <td>1.777030</td>\n",
       "      <td>2.070607</td>\n",
       "      <td>0.34699</td>\n",
       "      <td>0.659259</td>\n",
       "      <td>2.0</td>\n",
       "      <td>Alto</td>\n",
       "      <td>feliz</td>\n",
       "    </tr>\n",
       "    <tr>\n",
       "      <th>4</th>\n",
       "      <td>North America</td>\n",
       "      <td>7.427</td>\n",
       "      <td>0.959817</td>\n",
       "      <td>1.043646</td>\n",
       "      <td>1.357461</td>\n",
       "      <td>1.532282</td>\n",
       "      <td>1.751706</td>\n",
       "      <td>0.45811</td>\n",
       "      <td>0.635284</td>\n",
       "      <td>2.0</td>\n",
       "      <td>Alto</td>\n",
       "      <td>feliz</td>\n",
       "    </tr>\n",
       "  </tbody>\n",
       "</table>\n",
       "</div>"
      ],
      "text/plain": [
       "           Region  Happiness_Score  GDP_per_Capita  Social_Support  \\\n",
       "0  Western Europe            7.587        1.128964        1.128139   \n",
       "1  Western Europe            7.561        0.902078        1.293734   \n",
       "2  Western Europe            7.527        0.957866        1.162910   \n",
       "3  Western Europe            7.522        1.279491        1.069842   \n",
       "4   North America            7.427        0.959817        1.043646   \n",
       "\n",
       "   Life_Expectancy   Freedom  Corruption_Perception  Generosity  \\\n",
       "0         1.506687  1.749332               2.562987     0.29678   \n",
       "1         1.533406  1.504319               0.059897     0.43630   \n",
       "2         1.228285  1.641540               3.136666     0.34139   \n",
       "3         1.272344  1.777030               2.070607     0.34699   \n",
       "4         1.357461  1.532282               1.751706     0.45811   \n",
       "\n",
       "   Dystopia_Residual  Cluster Happiness_Level Happiness Category  \n",
       "0           0.751391      2.0            Alto              feliz  \n",
       "1           1.078072      2.0            Alto              feliz  \n",
       "2           0.706555      2.0            Alto              feliz  \n",
       "3           0.659259      2.0            Alto              feliz  \n",
       "4           0.635284      2.0            Alto              feliz  "
      ]
     },
     "execution_count": 11,
     "metadata": {},
     "output_type": "execute_result"
    }
   ],
   "source": [
    "# Escalar las características numéricas\n",
    "numerical_columns = ['GDP_per_Capita', 'Social_Support', 'Life_Expectancy', 'Freedom', 'Corruption_Perception','Dystopia_Residual']\n",
    "\n",
    "# Inicializamos el escalador\n",
    "scaler = StandardScaler()\n",
    "\n",
    "# Aplicamos el escalado a las columnas numéricas\n",
    "df_cleaned[numerical_columns] = scaler.fit_transform(df_cleaned[numerical_columns])\n",
    "\n",
    "# Verifica que los datos estén correctamente escalados\n",
    "df_cleaned.head()"
   ]
  },
  {
   "cell_type": "markdown",
   "id": "71a850d3",
   "metadata": {},
   "source": [
    "### Codificación de variables categóricas\n",
    "Aplica codificación (como LabelEncoder o One-Hot Encoding) a las columnas categóricas (`Region`, `Happiness_Level`, `Happiness Category`) para preparar los datos para el modelo.\n",
    "### Selección de características\n",
    "Define las variables independientes (X) seleccionando las columnas relevantes del DataFrame limpio y la variable dependiente (y) como `Happiness_Score`."
   ]
  },
  {
   "cell_type": "code",
   "execution_count": 12,
   "id": "47d8319d",
   "metadata": {},
   "outputs": [],
   "source": [
    "# Variables predictoras y objetivo\n",
    "X = df_cleaned.drop(columns=['Happiness_Score'])\n",
    "y = df_cleaned['Happiness_Score']\n",
    "\n",
    "# Codificar variables categóricas si existen (por ejemplo, 'Region')\n",
    "X = pd.get_dummies(X, drop_first=True)\n",
    "\n",
    "# Escalado\n",
    "scaler = StandardScaler()\n",
    "X_scaled = scaler.fit_transform(X)\n"
   ]
  },
  {
   "cell_type": "markdown",
   "id": "33f1545c",
   "metadata": {},
   "source": [
    "### División de datos en entrenamiento y prueba\n",
    "Divide el conjunto de datos en conjuntos de entrenamiento y prueba utilizando `train_test_split` para evaluar el rendimiento del modelo."
   ]
  },
  {
   "cell_type": "code",
   "execution_count": 13,
   "id": "3cddcce0",
   "metadata": {},
   "outputs": [],
   "source": [
    "X_train, X_test, y_train, y_test = train_test_split(X, y, test_size=0.2, random_state=42)"
   ]
  },
  {
   "cell_type": "markdown",
   "id": "8a5595b4",
   "metadata": {},
   "source": [
    "### Definición de modelos de regresión\n",
    "Crea un diccionario con pipelines para diferentes modelos de regresión (Linear Regression, Ridge Regression, Random Forest, XGBoost, y SVR con kernel RBF), incluyendo pasos de generación de características polinómicas con `PolynomialFeatures` y escalado de variables con `StandardScaler` para preparar los datos antes del entrenamiento."
   ]
  },
  {
   "cell_type": "code",
   "execution_count": 14,
   "id": "305b431b",
   "metadata": {},
   "outputs": [],
   "source": [
    "\n",
    "# Diccionario de modelos\n",
    "models = {\n",
    "    'Linear Regression': Pipeline([\n",
    "        ('poly', PolynomialFeatures(include_bias=False)),\n",
    "        ('scaler', StandardScaler()),\n",
    "        ('lr', LinearRegression())\n",
    "    ]),\n",
    "    'Ridge Regression': Pipeline([\n",
    "        ('poly', PolynomialFeatures(include_bias=False)),\n",
    "        ('scaler', StandardScaler()),\n",
    "        ('ridge', Ridge())\n",
    "    ]),\n",
    "    'Random Forest': Pipeline([\n",
    "        ('poly', PolynomialFeatures(include_bias=False)),\n",
    "        ('scaler', StandardScaler()),\n",
    "        ('rf', RandomForestRegressor(random_state=50))\n",
    "    ]),\n",
    "    'XGBoost': Pipeline([\n",
    "        ('poly', PolynomialFeatures(include_bias=False)),\n",
    "        ('scaler', StandardScaler()),\n",
    "        ('xgb', XGBRegressor(random_state=50))\n",
    "    ]),\n",
    "    'SVR (RBF Kernel)': Pipeline([\n",
    "        ('poly', PolynomialFeatures(include_bias=False)),\n",
    "        ('scaler', StandardScaler()),\n",
    "        ('svr', SVR(kernel='rbf'))\n",
    "    ])\n",
    "}"
   ]
  },
  {
   "cell_type": "markdown",
   "id": "4d4d5646",
   "metadata": {},
   "source": [
    "### Almacenar resultados"
   ]
  },
  {
   "cell_type": "code",
   "execution_count": 15,
   "id": "be9717f8",
   "metadata": {},
   "outputs": [],
   "source": [
    "results = []"
   ]
  },
  {
   "cell_type": "markdown",
   "id": "9f9f5ecb",
   "metadata": {},
   "source": [
    "### Entrenamiento y evaluación de modelos\n",
    "Entrena los modelos definidos en el diccionario `models` con el conjunto de entrenamiento, evalúa su rendimiento en los conjuntos de entrenamiento y prueba usando métricas como MSE, RMSE y R², e imprime los resultados. Luego, identifica y guarda el mejor modelo (con mayor R² en el conjunto de prueba) en un archivo `.pkl` para uso futuro."
   ]
  },
  {
   "cell_type": "code",
   "execution_count": 16,
   "id": "ed941c4d",
   "metadata": {},
   "outputs": [
    {
     "name": "stdout",
     "output_type": "stream",
     "text": [
      "Linear Regression:\n",
      "R²: 0.9890\n",
      "RMSE: 0.1187\n",
      "Cross-Val R²: 0.9990 ± 0.0011\n",
      "\n",
      "Ridge Regression:\n",
      "R²: 0.9945\n",
      "RMSE: 0.0835\n",
      "Cross-Val R²: 0.9990 ± 0.0004\n",
      "\n",
      "Random Forest:\n",
      "R²: 0.9356\n",
      "RMSE: 0.2868\n",
      "Cross-Val R²: 0.9252 ± 0.0387\n",
      "\n",
      "XGBoost:\n",
      "R²: 0.9370\n",
      "RMSE: 0.2837\n",
      "Cross-Val R²: 0.9291 ± 0.0286\n",
      "\n",
      "SVR (RBF Kernel):\n",
      "R²: 0.9018\n",
      "RMSE: 0.3542\n",
      "Cross-Val R²: 0.9186 ± 0.0284\n",
      "\n"
     ]
    }
   ],
   "source": [
    "# Entrenar y evaluar cada modelo\n",
    "for name, model in models.items():\n",
    "    # Entrenar modelo\n",
    "    model.fit(X_train, y_train)\n",
    "    \n",
    "    # Predecir en conjunto de prueba\n",
    "    y_pred = model.predict(X_test)\n",
    "    \n",
    "    # Calcular métricas\n",
    "    r2 = r2_score(y_test, y_pred)\n",
    "    rmse = np.sqrt(mean_squared_error(y_test, y_pred))\n",
    "    \n",
    "    # Validación cruzada\n",
    "    cv_scores = cross_val_score(model, X_train, y_train, cv=5, scoring='r2')\n",
    "    \n",
    "    # Guardar resultados\n",
    "    results.append({\n",
    "        'Model': name,\n",
    "        'R²': r2,\n",
    "        'RMSE': rmse,\n",
    "        'Cross-Val R² (mean)': cv_scores.mean(),\n",
    "        'Cross-Val R² (std)': cv_scores.std()\n",
    "    })\n",
    "    \n",
    "    print(f\"{name}:\")\n",
    "    print(f\"R²: {r2:.4f}\")\n",
    "    print(f\"RMSE: {rmse:.4f}\")\n",
    "    print(f\"Cross-Val R²: {cv_scores.mean():.4f} ± {cv_scores.std():.4f}\\n\")"
   ]
  },
  {
   "cell_type": "markdown",
   "id": "db508699",
   "metadata": {},
   "source": [
    "### Resumen de resultados de los modelos\n",
    "Convierte el diccionario `results` en un DataFrame para organizar las métricas de evaluación (R² , RMSE, entre otras ) de cada modelo y muestra un resumen claro de su rendimiento en los conjuntos de entrenamiento y prueba."
   ]
  },
  {
   "cell_type": "code",
   "execution_count": 18,
   "id": "feeaf86e",
   "metadata": {},
   "outputs": [
    {
     "name": "stdout",
     "output_type": "stream",
     "text": [
      "\n",
      "Resumen de resultados:\n"
     ]
    },
    {
     "data": {
      "application/vnd.microsoft.datawrangler.viewer.v0+json": {
       "columns": [
        {
         "name": "index",
         "rawType": "int64",
         "type": "integer"
        },
        {
         "name": "Model",
         "rawType": "object",
         "type": "string"
        },
        {
         "name": "R²",
         "rawType": "float64",
         "type": "float"
        },
        {
         "name": "RMSE",
         "rawType": "float64",
         "type": "float"
        },
        {
         "name": "Cross-Val R² (mean)",
         "rawType": "float64",
         "type": "float"
        },
        {
         "name": "Cross-Val R² (std)",
         "rawType": "float64",
         "type": "float"
        }
       ],
       "conversionMethod": "pd.DataFrame",
       "ref": "5a0dc372-12da-40a1-a1a8-7766a5b659fe",
       "rows": [
        [
         "0",
         "Linear Regression",
         "0.9889656084644035",
         "0.11870159551136483",
         "0.9990350644574795",
         "0.0011237181984391086"
        ],
        [
         "1",
         "Ridge Regression",
         "0.9945451140212723",
         "0.08345938882612908",
         "0.9990306556233406",
         "0.0003664901021024459"
        ],
        [
         "2",
         "Random Forest",
         "0.9355941122321402",
         "0.2867775478662382",
         "0.9251885037132525",
         "0.0386826833669868"
        ],
        [
         "3",
         "XGBoost",
         "0.9369886613924874",
         "0.2836558302024263",
         "0.9291355501192416",
         "0.028575538947863802"
        ],
        [
         "4",
         "SVR (RBF Kernel)",
         "0.9017637220193536",
         "0.3541753332078215",
         "0.9185780924705818",
         "0.028360164360690963"
        ]
       ],
       "shape": {
        "columns": 5,
        "rows": 5
       }
      },
      "text/html": [
       "<div>\n",
       "<style scoped>\n",
       "    .dataframe tbody tr th:only-of-type {\n",
       "        vertical-align: middle;\n",
       "    }\n",
       "\n",
       "    .dataframe tbody tr th {\n",
       "        vertical-align: top;\n",
       "    }\n",
       "\n",
       "    .dataframe thead th {\n",
       "        text-align: right;\n",
       "    }\n",
       "</style>\n",
       "<table border=\"1\" class=\"dataframe\">\n",
       "  <thead>\n",
       "    <tr style=\"text-align: right;\">\n",
       "      <th></th>\n",
       "      <th>Model</th>\n",
       "      <th>R²</th>\n",
       "      <th>RMSE</th>\n",
       "      <th>Cross-Val R² (mean)</th>\n",
       "      <th>Cross-Val R² (std)</th>\n",
       "    </tr>\n",
       "  </thead>\n",
       "  <tbody>\n",
       "    <tr>\n",
       "      <th>0</th>\n",
       "      <td>Linear Regression</td>\n",
       "      <td>0.988966</td>\n",
       "      <td>0.118702</td>\n",
       "      <td>0.999035</td>\n",
       "      <td>0.001124</td>\n",
       "    </tr>\n",
       "    <tr>\n",
       "      <th>1</th>\n",
       "      <td>Ridge Regression</td>\n",
       "      <td>0.994545</td>\n",
       "      <td>0.083459</td>\n",
       "      <td>0.999031</td>\n",
       "      <td>0.000366</td>\n",
       "    </tr>\n",
       "    <tr>\n",
       "      <th>2</th>\n",
       "      <td>Random Forest</td>\n",
       "      <td>0.935594</td>\n",
       "      <td>0.286778</td>\n",
       "      <td>0.925189</td>\n",
       "      <td>0.038683</td>\n",
       "    </tr>\n",
       "    <tr>\n",
       "      <th>3</th>\n",
       "      <td>XGBoost</td>\n",
       "      <td>0.936989</td>\n",
       "      <td>0.283656</td>\n",
       "      <td>0.929136</td>\n",
       "      <td>0.028576</td>\n",
       "    </tr>\n",
       "    <tr>\n",
       "      <th>4</th>\n",
       "      <td>SVR (RBF Kernel)</td>\n",
       "      <td>0.901764</td>\n",
       "      <td>0.354175</td>\n",
       "      <td>0.918578</td>\n",
       "      <td>0.028360</td>\n",
       "    </tr>\n",
       "  </tbody>\n",
       "</table>\n",
       "</div>"
      ],
      "text/plain": [
       "               Model        R²      RMSE  Cross-Val R² (mean)  \\\n",
       "0  Linear Regression  0.988966  0.118702             0.999035   \n",
       "1   Ridge Regression  0.994545  0.083459             0.999031   \n",
       "2      Random Forest  0.935594  0.286778             0.925189   \n",
       "3            XGBoost  0.936989  0.283656             0.929136   \n",
       "4   SVR (RBF Kernel)  0.901764  0.354175             0.918578   \n",
       "\n",
       "   Cross-Val R² (std)  \n",
       "0            0.001124  \n",
       "1            0.000366  \n",
       "2            0.038683  \n",
       "3            0.028576  \n",
       "4            0.028360  "
      ]
     },
     "execution_count": 18,
     "metadata": {},
     "output_type": "execute_result"
    }
   ],
   "source": [
    "results_df = pd.DataFrame(results)\n",
    "print(\"\\nResumen de resultados:\")\n",
    "results_df"
   ]
  },
  {
   "cell_type": "markdown",
   "id": "7fcd9cc5",
   "metadata": {},
   "source": [
    "### Guardado del modelo\n",
    "Guarda el modelo entrenado en un archivo utilizando `pickle` o `joblib` para su uso futuro."
   ]
  },
  {
   "cell_type": "code",
   "execution_count": 19,
   "id": "d3d72c7c",
   "metadata": {},
   "outputs": [
    {
     "name": "stdout",
     "output_type": "stream",
     "text": [
      "✅ Modelo 'Ridge Regression' guardado como mejor_modelo.pkl usando métrica 'R²'.\n"
     ]
    }
   ],
   "source": [
    "metrica = 'R²'\n",
    "\n",
    "mejor_modelo_nombre = results_df.sort_values(by=metrica, ascending=False).iloc[0]['Model']\n",
    "\n",
    "mejor_modelo = models[mejor_modelo_nombre]\n",
    "\n",
    "ruta_guardado = r\"C:\\Users\\Acer\\OneDrive\\Escritorio\\Workshops y Proyectos\\workshop3\\modelo\\mejor_modelo.pkl\"\n",
    "\n",
    "os.makedirs(os.path.dirname(ruta_guardado), exist_ok=True)\n",
    "\n",
    "try:\n",
    "    with open(ruta_guardado, 'wb') as f:\n",
    "        pickle.dump(mejor_modelo, f)\n",
    "    print(f\"✅ Modelo '{mejor_modelo_nombre}' guardado como mejor_modelo.pkl usando métrica '{metrica}'.\")\n",
    "except Exception as e:\n",
    "    print(f\"❌ Error al guardar el modelo: {e}\")\n"
   ]
  },
  {
   "cell_type": "markdown",
   "id": "54666b16",
   "metadata": {},
   "source": [
    "### 📊 Gráfico de Predicción vs Real\n",
    "\n",
    "Este gráfico compara los valores reales del `Happiness_Score` con los valores predichos por el modelo.  \n",
    "Idealmente, los puntos deberían alinearse cerca de la línea roja punteada, que representa una predicción perfecta.\n"
   ]
  },
  {
   "cell_type": "code",
   "execution_count": 20,
   "id": "c9b5104f",
   "metadata": {},
   "outputs": [
    {
     "data": {
      "image/png": "[encoded data removed]",
      "text/plain": [
       "<Figure size 800x600 with 1 Axes>"
      ]
     },
     "metadata": {},
     "output_type": "display_data"
    }
   ],
   "source": [
    "plt.figure(figsize=(8, 6))\n",
    "plt.scatter(y_test, y_pred, alpha=0.6, color='dodgerblue')\n",
    "plt.plot([y_test.min(), y_test.max()], [y_test.min(), y_test.max()], 'r--', lw=2)\n",
    "plt.xlabel('Valores Reales')\n",
    "plt.ylabel('Valores Predichos')\n",
    "plt.title('Comparación entre valores reales y predichos')\n",
    "plt.grid(True)\n",
    "plt.show()"
   ]
  },
  {
   "cell_type": "markdown",
   "id": "8110946c",
   "metadata": {},
   "source": [
    "### 🧮 Distribución de Errores\n",
    "\n",
    "Este histograma muestra los errores (residuos) del modelo.  \n",
    "Un buen modelo debería tener errores centrados cerca de 0 y una forma simétrica, lo que indica que no hay sesgo sistemático.\n"
   ]
  },
  {
   "cell_type": "code",
   "execution_count": 21,
   "id": "a8604e9d",
   "metadata": {},
   "outputs": [
    {
     "data": {
      "image/png": "[encoded data removed]",
      "text/plain": [
       "<Figure size 800x500 with 1 Axes>"
      ]
     },
     "metadata": {},
     "output_type": "display_data"
    }
   ],
   "source": [
    "errors = y_test - y_pred\n",
    "\n",
    "plt.figure(figsize=(8, 5))\n",
    "sns.histplot(errors, kde=True, color='orange')\n",
    "plt.title('Distribución de errores (residuos)')\n",
    "plt.xlabel('Error (y_test - y_pred)')\n",
    "plt.ylabel('Frecuencia')\n",
    "plt.grid(True)\n",
    "plt.show()\n"
   ]
  }
 ],
 "metadata": {
  "kernelspec": {
   "display_name": "Python 3",
   "language": "python",
   "name": "python3"
  },
  "language_info": {
   "codemirror_mode": {
    "name": "ipython",
    "version": 3
   },
   "file_extension": ".py",
   "mimetype": "text/x-python",
   "name": "python",
   "nbconvert_exporter": "python",
   "pygments_lexer": "ipython3",
   "version": "3.12.6"
  }
 },
 "nbformat": 4,
 "nbformat_minor": 5
}
