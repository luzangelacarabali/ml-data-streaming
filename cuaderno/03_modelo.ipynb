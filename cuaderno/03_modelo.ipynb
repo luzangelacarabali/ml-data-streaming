{
 "cells": [
  {
   "cell_type": "markdown",
   "id": "0e149f4c",
   "metadata": {},
   "source": [
    "### Importación de librerías\n",
    "Importa todas las librerías necesarias para el procesamiento de datos, visualización, creación y evaluación de modelos de machine learning, y almacenamiento de modelos."
   ]
  },
  {
   "cell_type": "code",
   "execution_count": 1,
   "id": "79d270f7",
   "metadata": {},
   "outputs": [],
   "source": [
    "import os\n",
    "import pickle\n",
    "\n",
    "import numpy as np\n",
    "import pandas as pd\n",
    "import matplotlib.pyplot as plt\n",
    "import seaborn as sns\n",
    "\n",
    "from sklearn.model_selection import train_test_split, cross_val_score\n",
    "from sklearn.linear_model import LinearRegression, Ridge\n",
    "from sklearn.ensemble import RandomForestRegressor\n",
    "from sklearn.metrics import mean_squared_error, r2_score, mean_absolute_error\n",
    "from sklearn.preprocessing import StandardScaler\n",
    "from sklearn.model_selection import cross_val_predict\n",
    "\n",
    "import joblib\n",
    "from joblib import load\n"
   ]
  },
  {
   "cell_type": "markdown",
   "id": "41fe9acc",
   "metadata": {},
   "source": [
    "### Carga de datos\n",
    "Carga el archivo CSV con los datos procesados y muestra las primeras cinco filas del DataFrame para verificar su contenido."
   ]
  },
  {
   "cell_type": "code",
   "execution_count": 2,
   "id": "10137bdc",
   "metadata": {},
   "outputs": [
    {
     "data": {
      "application/vnd.microsoft.datawrangler.viewer.v0+json": {
       "columns": [
        {
         "name": "index",
         "rawType": "int64",
         "type": "integer"
        },
        {
         "name": "Country",
         "rawType": "object",
         "type": "string"
        },
        {
         "name": "Region",
         "rawType": "object",
         "type": "string"
        },
        {
         "name": "Happiness_Rank",
         "rawType": "int64",
         "type": "integer"
        },
        {
         "name": "Happiness_Score",
         "rawType": "float64",
         "type": "float"
        },
        {
         "name": "GDP_per_Capita",
         "rawType": "float64",
         "type": "float"
        },
        {
         "name": "Social_Support",
         "rawType": "float64",
         "type": "float"
        },
        {
         "name": "Life_Expectancy",
         "rawType": "float64",
         "type": "float"
        },
        {
         "name": "Freedom",
         "rawType": "float64",
         "type": "float"
        },
        {
         "name": "Corruption_Perception",
         "rawType": "float64",
         "type": "float"
        },
        {
         "name": "Generosity",
         "rawType": "float64",
         "type": "float"
        },
        {
         "name": "Dystopia_Residual",
         "rawType": "float64",
         "type": "float"
        },
        {
         "name": "Year",
         "rawType": "int64",
         "type": "integer"
        },
        {
         "name": "Cluster",
         "rawType": "float64",
         "type": "float"
        },
        {
         "name": "Happiness_Level",
         "rawType": "object",
         "type": "string"
        },
        {
         "name": "Happiness Category",
         "rawType": "object",
         "type": "string"
        }
       ],
       "ref": "fbabbecd-9064-43df-8a3f-c9c60ecf0221",
       "rows": [
        [
         "0",
         "Switzerland",
         "Western Europe",
         "1",
         "7.587",
         "1.39651",
         "1.34951",
         "0.94143",
         "0.66557",
         "0.41978",
         "0.29678",
         "2.51738",
         "2015",
         "2.0",
         "Alto",
         "feliz"
        ],
        [
         "1",
         "Iceland",
         "Western Europe",
         "2",
         "7.561",
         "1.30232",
         "1.40223",
         "0.94784",
         "0.62877",
         "0.14145",
         "0.4363",
         "2.70201",
         "2015",
         "2.0",
         "Alto",
         "feliz"
        ],
        [
         "2",
         "Denmark",
         "Western Europe",
         "3",
         "7.527",
         "1.32548",
         "1.36058",
         "0.87464",
         "0.64938",
         "0.48357",
         "0.34139",
         "2.49204",
         "2015",
         "2.0",
         "Alto",
         "feliz"
        ],
        [
         "3",
         "Norway",
         "Western Europe",
         "4",
         "7.522",
         "1.459",
         "1.33095",
         "0.88521",
         "0.66973",
         "0.36503",
         "0.34699",
         "2.46531",
         "2015",
         "2.0",
         "Alto",
         "feliz"
        ],
        [
         "4",
         "Canada",
         "North America",
         "5",
         "7.427",
         "1.32629",
         "1.32261",
         "0.90563",
         "0.63297",
         "0.32957",
         "0.45811",
         "2.45176",
         "2015",
         "2.0",
         "Alto",
         "feliz"
        ]
       ],
       "shape": {
        "columns": 15,
        "rows": 5
       }
      },
      "text/html": [
       "<div>\n",
       "<style scoped>\n",
       "    .dataframe tbody tr th:only-of-type {\n",
       "        vertical-align: middle;\n",
       "    }\n",
       "\n",
       "    .dataframe tbody tr th {\n",
       "        vertical-align: top;\n",
       "    }\n",
       "\n",
       "    .dataframe thead th {\n",
       "        text-align: right;\n",
       "    }\n",
       "</style>\n",
       "<table border=\"1\" class=\"dataframe\">\n",
       "  <thead>\n",
       "    <tr style=\"text-align: right;\">\n",
       "      <th></th>\n",
       "      <th>Country</th>\n",
       "      <th>Region</th>\n",
       "      <th>Happiness_Rank</th>\n",
       "      <th>Happiness_Score</th>\n",
       "      <th>GDP_per_Capita</th>\n",
       "      <th>Social_Support</th>\n",
       "      <th>Life_Expectancy</th>\n",
       "      <th>Freedom</th>\n",
       "      <th>Corruption_Perception</th>\n",
       "      <th>Generosity</th>\n",
       "      <th>Dystopia_Residual</th>\n",
       "      <th>Year</th>\n",
       "      <th>Cluster</th>\n",
       "      <th>Happiness_Level</th>\n",
       "      <th>Happiness Category</th>\n",
       "    </tr>\n",
       "  </thead>\n",
       "  <tbody>\n",
       "    <tr>\n",
       "      <th>0</th>\n",
       "      <td>Switzerland</td>\n",
       "      <td>Western Europe</td>\n",
       "      <td>1</td>\n",
       "      <td>7.587</td>\n",
       "      <td>1.39651</td>\n",
       "      <td>1.34951</td>\n",
       "      <td>0.94143</td>\n",
       "      <td>0.66557</td>\n",
       "      <td>0.41978</td>\n",
       "      <td>0.29678</td>\n",
       "      <td>2.51738</td>\n",
       "      <td>2015</td>\n",
       "      <td>2.0</td>\n",
       "      <td>Alto</td>\n",
       "      <td>feliz</td>\n",
       "    </tr>\n",
       "    <tr>\n",
       "      <th>1</th>\n",
       "      <td>Iceland</td>\n",
       "      <td>Western Europe</td>\n",
       "      <td>2</td>\n",
       "      <td>7.561</td>\n",
       "      <td>1.30232</td>\n",
       "      <td>1.40223</td>\n",
       "      <td>0.94784</td>\n",
       "      <td>0.62877</td>\n",
       "      <td>0.14145</td>\n",
       "      <td>0.43630</td>\n",
       "      <td>2.70201</td>\n",
       "      <td>2015</td>\n",
       "      <td>2.0</td>\n",
       "      <td>Alto</td>\n",
       "      <td>feliz</td>\n",
       "    </tr>\n",
       "    <tr>\n",
       "      <th>2</th>\n",
       "      <td>Denmark</td>\n",
       "      <td>Western Europe</td>\n",
       "      <td>3</td>\n",
       "      <td>7.527</td>\n",
       "      <td>1.32548</td>\n",
       "      <td>1.36058</td>\n",
       "      <td>0.87464</td>\n",
       "      <td>0.64938</td>\n",
       "      <td>0.48357</td>\n",
       "      <td>0.34139</td>\n",
       "      <td>2.49204</td>\n",
       "      <td>2015</td>\n",
       "      <td>2.0</td>\n",
       "      <td>Alto</td>\n",
       "      <td>feliz</td>\n",
       "    </tr>\n",
       "    <tr>\n",
       "      <th>3</th>\n",
       "      <td>Norway</td>\n",
       "      <td>Western Europe</td>\n",
       "      <td>4</td>\n",
       "      <td>7.522</td>\n",
       "      <td>1.45900</td>\n",
       "      <td>1.33095</td>\n",
       "      <td>0.88521</td>\n",
       "      <td>0.66973</td>\n",
       "      <td>0.36503</td>\n",
       "      <td>0.34699</td>\n",
       "      <td>2.46531</td>\n",
       "      <td>2015</td>\n",
       "      <td>2.0</td>\n",
       "      <td>Alto</td>\n",
       "      <td>feliz</td>\n",
       "    </tr>\n",
       "    <tr>\n",
       "      <th>4</th>\n",
       "      <td>Canada</td>\n",
       "      <td>North America</td>\n",
       "      <td>5</td>\n",
       "      <td>7.427</td>\n",
       "      <td>1.32629</td>\n",
       "      <td>1.32261</td>\n",
       "      <td>0.90563</td>\n",
       "      <td>0.63297</td>\n",
       "      <td>0.32957</td>\n",
       "      <td>0.45811</td>\n",
       "      <td>2.45176</td>\n",
       "      <td>2015</td>\n",
       "      <td>2.0</td>\n",
       "      <td>Alto</td>\n",
       "      <td>feliz</td>\n",
       "    </tr>\n",
       "  </tbody>\n",
       "</table>\n",
       "</div>"
      ],
      "text/plain": [
       "       Country          Region  Happiness_Rank  Happiness_Score  \\\n",
       "0  Switzerland  Western Europe               1            7.587   \n",
       "1      Iceland  Western Europe               2            7.561   \n",
       "2      Denmark  Western Europe               3            7.527   \n",
       "3       Norway  Western Europe               4            7.522   \n",
       "4       Canada   North America               5            7.427   \n",
       "\n",
       "   GDP_per_Capita  Social_Support  Life_Expectancy  Freedom  \\\n",
       "0         1.39651         1.34951          0.94143  0.66557   \n",
       "1         1.30232         1.40223          0.94784  0.62877   \n",
       "2         1.32548         1.36058          0.87464  0.64938   \n",
       "3         1.45900         1.33095          0.88521  0.66973   \n",
       "4         1.32629         1.32261          0.90563  0.63297   \n",
       "\n",
       "   Corruption_Perception  Generosity  Dystopia_Residual  Year  Cluster  \\\n",
       "0                0.41978     0.29678            2.51738  2015      2.0   \n",
       "1                0.14145     0.43630            2.70201  2015      2.0   \n",
       "2                0.48357     0.34139            2.49204  2015      2.0   \n",
       "3                0.36503     0.34699            2.46531  2015      2.0   \n",
       "4                0.32957     0.45811            2.45176  2015      2.0   \n",
       "\n",
       "  Happiness_Level Happiness Category  \n",
       "0            Alto              feliz  \n",
       "1            Alto              feliz  \n",
       "2            Alto              feliz  \n",
       "3            Alto              feliz  \n",
       "4            Alto              feliz  "
      ]
     },
     "execution_count": 2,
     "metadata": {},
     "output_type": "execute_result"
    }
   ],
   "source": [
    "df = pd.read_csv(\"C:/Users/Acer/OneDrive/Escritorio/Workshops y Proyectos/workshop3/datos/datos_procesados.csv\")\n",
    "df.head()"
   ]
  },
  {
   "cell_type": "markdown",
   "id": "1ce893fa",
   "metadata": {},
   "source": [
    "### Inspección de columnas\n",
    "Muestra todas las columnas del DataFrame para identificar las variables disponibles y facilitar el análisis posterior."
   ]
  },
  {
   "cell_type": "code",
   "execution_count": 3,
   "id": "df1897a6",
   "metadata": {},
   "outputs": [
    {
     "data": {
      "text/plain": [
       "Index(['Country', 'Region', 'Happiness_Rank', 'Happiness_Score',\n",
       "       'GDP_per_Capita', 'Social_Support', 'Life_Expectancy', 'Freedom',\n",
       "       'Corruption_Perception', 'Generosity', 'Dystopia_Residual', 'Year',\n",
       "       'Cluster', 'Happiness_Level', 'Happiness Category'],\n",
       "      dtype='object')"
      ]
     },
     "execution_count": 3,
     "metadata": {},
     "output_type": "execute_result"
    }
   ],
   "source": [
    "df.columns"
   ]
  },
  {
   "cell_type": "markdown",
   "id": "21d54eb4",
   "metadata": {},
   "source": [
    "## Preprocesamiento"
   ]
  },
  {
   "cell_type": "markdown",
   "id": "88d1d969",
   "metadata": {},
   "source": [
    "### Eliminación de columnas innecesarias\n",
    "Elimina columnas que no son relevantes para el modelo, como identificadores, rangos y columnas relacionadas con errores o intervalos de confianza, ignorando posibles errores si las columnas no existen."
   ]
  },
  {
   "cell_type": "code",
   "execution_count": 4,
   "id": "088e63b7",
   "metadata": {},
   "outputs": [],
   "source": [
    "columns_to_drop = [\n",
    "    'Happiness_Rank', 'Standard_Error', 'Lower_Confidence_Interval',\n",
    "    'Upper_Confidence_Interval', 'Whisker_High', 'Whisker_Low',\n",
    "     'Year', 'Dystopia_Residual','Happiness Category','Happiness_Level','Cluster','Region'\n",
    "]\n",
    "\n",
    "df_cleaned = df.drop(columns=columns_to_drop, errors='ignore')\n"
   ]
  },
  {
   "cell_type": "markdown",
   "id": "0b0e19e0",
   "metadata": {},
   "source": [
    "### Visualización de datos limpios\n",
    "Muestra las primeras cinco filas del DataFrame limpio tras la eliminación de columnas innecesarias para verificar los cambios."
   ]
  },
  {
   "cell_type": "code",
   "execution_count": 5,
   "id": "86083f97",
   "metadata": {},
   "outputs": [
    {
     "data": {
      "application/vnd.microsoft.datawrangler.viewer.v0+json": {
       "columns": [
        {
         "name": "index",
         "rawType": "int64",
         "type": "integer"
        },
        {
         "name": "Country",
         "rawType": "object",
         "type": "string"
        },
        {
         "name": "Happiness_Score",
         "rawType": "float64",
         "type": "float"
        },
        {
         "name": "GDP_per_Capita",
         "rawType": "float64",
         "type": "float"
        },
        {
         "name": "Social_Support",
         "rawType": "float64",
         "type": "float"
        },
        {
         "name": "Life_Expectancy",
         "rawType": "float64",
         "type": "float"
        },
        {
         "name": "Freedom",
         "rawType": "float64",
         "type": "float"
        },
        {
         "name": "Corruption_Perception",
         "rawType": "float64",
         "type": "float"
        },
        {
         "name": "Generosity",
         "rawType": "float64",
         "type": "float"
        }
       ],
       "ref": "61c258ae-ac13-4a56-a73e-3f75cdbeb99e",
       "rows": [
        [
         "0",
         "Switzerland",
         "7.587",
         "1.39651",
         "1.34951",
         "0.94143",
         "0.66557",
         "0.41978",
         "0.29678"
        ],
        [
         "1",
         "Iceland",
         "7.561",
         "1.30232",
         "1.40223",
         "0.94784",
         "0.62877",
         "0.14145",
         "0.4363"
        ],
        [
         "2",
         "Denmark",
         "7.527",
         "1.32548",
         "1.36058",
         "0.87464",
         "0.64938",
         "0.48357",
         "0.34139"
        ],
        [
         "3",
         "Norway",
         "7.522",
         "1.459",
         "1.33095",
         "0.88521",
         "0.66973",
         "0.36503",
         "0.34699"
        ],
        [
         "4",
         "Canada",
         "7.427",
         "1.32629",
         "1.32261",
         "0.90563",
         "0.63297",
         "0.32957",
         "0.45811"
        ]
       ],
       "shape": {
        "columns": 8,
        "rows": 5
       }
      },
      "text/html": [
       "<div>\n",
       "<style scoped>\n",
       "    .dataframe tbody tr th:only-of-type {\n",
       "        vertical-align: middle;\n",
       "    }\n",
       "\n",
       "    .dataframe tbody tr th {\n",
       "        vertical-align: top;\n",
       "    }\n",
       "\n",
       "    .dataframe thead th {\n",
       "        text-align: right;\n",
       "    }\n",
       "</style>\n",
       "<table border=\"1\" class=\"dataframe\">\n",
       "  <thead>\n",
       "    <tr style=\"text-align: right;\">\n",
       "      <th></th>\n",
       "      <th>Country</th>\n",
       "      <th>Happiness_Score</th>\n",
       "      <th>GDP_per_Capita</th>\n",
       "      <th>Social_Support</th>\n",
       "      <th>Life_Expectancy</th>\n",
       "      <th>Freedom</th>\n",
       "      <th>Corruption_Perception</th>\n",
       "      <th>Generosity</th>\n",
       "    </tr>\n",
       "  </thead>\n",
       "  <tbody>\n",
       "    <tr>\n",
       "      <th>0</th>\n",
       "      <td>Switzerland</td>\n",
       "      <td>7.587</td>\n",
       "      <td>1.39651</td>\n",
       "      <td>1.34951</td>\n",
       "      <td>0.94143</td>\n",
       "      <td>0.66557</td>\n",
       "      <td>0.41978</td>\n",
       "      <td>0.29678</td>\n",
       "    </tr>\n",
       "    <tr>\n",
       "      <th>1</th>\n",
       "      <td>Iceland</td>\n",
       "      <td>7.561</td>\n",
       "      <td>1.30232</td>\n",
       "      <td>1.40223</td>\n",
       "      <td>0.94784</td>\n",
       "      <td>0.62877</td>\n",
       "      <td>0.14145</td>\n",
       "      <td>0.43630</td>\n",
       "    </tr>\n",
       "    <tr>\n",
       "      <th>2</th>\n",
       "      <td>Denmark</td>\n",
       "      <td>7.527</td>\n",
       "      <td>1.32548</td>\n",
       "      <td>1.36058</td>\n",
       "      <td>0.87464</td>\n",
       "      <td>0.64938</td>\n",
       "      <td>0.48357</td>\n",
       "      <td>0.34139</td>\n",
       "    </tr>\n",
       "    <tr>\n",
       "      <th>3</th>\n",
       "      <td>Norway</td>\n",
       "      <td>7.522</td>\n",
       "      <td>1.45900</td>\n",
       "      <td>1.33095</td>\n",
       "      <td>0.88521</td>\n",
       "      <td>0.66973</td>\n",
       "      <td>0.36503</td>\n",
       "      <td>0.34699</td>\n",
       "    </tr>\n",
       "    <tr>\n",
       "      <th>4</th>\n",
       "      <td>Canada</td>\n",
       "      <td>7.427</td>\n",
       "      <td>1.32629</td>\n",
       "      <td>1.32261</td>\n",
       "      <td>0.90563</td>\n",
       "      <td>0.63297</td>\n",
       "      <td>0.32957</td>\n",
       "      <td>0.45811</td>\n",
       "    </tr>\n",
       "  </tbody>\n",
       "</table>\n",
       "</div>"
      ],
      "text/plain": [
       "       Country  Happiness_Score  GDP_per_Capita  Social_Support  \\\n",
       "0  Switzerland            7.587         1.39651         1.34951   \n",
       "1      Iceland            7.561         1.30232         1.40223   \n",
       "2      Denmark            7.527         1.32548         1.36058   \n",
       "3       Norway            7.522         1.45900         1.33095   \n",
       "4       Canada            7.427         1.32629         1.32261   \n",
       "\n",
       "   Life_Expectancy  Freedom  Corruption_Perception  Generosity  \n",
       "0          0.94143  0.66557                0.41978     0.29678  \n",
       "1          0.94784  0.62877                0.14145     0.43630  \n",
       "2          0.87464  0.64938                0.48357     0.34139  \n",
       "3          0.88521  0.66973                0.36503     0.34699  \n",
       "4          0.90563  0.63297                0.32957     0.45811  "
      ]
     },
     "execution_count": 5,
     "metadata": {},
     "output_type": "execute_result"
    }
   ],
   "source": [
    "df_cleaned.head()"
   ]
  },
  {
   "cell_type": "markdown",
   "id": "fe8f9e68",
   "metadata": {},
   "source": [
    "### Inspección de datos limpios\n",
    "Muestra información detallada del DataFrame `df_cleaned`, incluyendo el número de entradas, columnas, tipos de datos y la presencia de valores nulos, para verificar la estructura y calidad de los datos tras el preprocesamiento."
   ]
  },
  {
   "cell_type": "code",
   "execution_count": 6,
   "id": "3028558a",
   "metadata": {},
   "outputs": [
    {
     "name": "stdout",
     "output_type": "stream",
     "text": [
      "<class 'pandas.core.frame.DataFrame'>\n",
      "RangeIndex: 782 entries, 0 to 781\n",
      "Data columns (total 8 columns):\n",
      " #   Column                 Non-Null Count  Dtype  \n",
      "---  ------                 --------------  -----  \n",
      " 0   Country                782 non-null    object \n",
      " 1   Happiness_Score        782 non-null    float64\n",
      " 2   GDP_per_Capita         782 non-null    float64\n",
      " 3   Social_Support         782 non-null    float64\n",
      " 4   Life_Expectancy        782 non-null    float64\n",
      " 5   Freedom                782 non-null    float64\n",
      " 6   Corruption_Perception  782 non-null    float64\n",
      " 7   Generosity             782 non-null    float64\n",
      "dtypes: float64(7), object(1)\n",
      "memory usage: 49.0+ KB\n"
     ]
    }
   ],
   "source": [
    "df_cleaned.info()\n"
   ]
  },
  {
   "cell_type": "markdown",
   "id": "be8ab7bc",
   "metadata": {},
   "source": [
    "### Verificación de valores nulos\n",
    "Muestra la cantidad de valores nulos en cada columna del DataFrame `df_cleaned` para confirmar que los datos están completos después de las operaciones de limpieza."
   ]
  },
  {
   "cell_type": "code",
   "execution_count": 7,
   "id": "070512e4",
   "metadata": {},
   "outputs": [
    {
     "data": {
      "application/vnd.microsoft.datawrangler.viewer.v0+json": {
       "columns": [
        {
         "name": "index",
         "rawType": "object",
         "type": "string"
        },
        {
         "name": "0",
         "rawType": "int64",
         "type": "integer"
        }
       ],
       "ref": "fac6484f-8fb9-4791-822e-f1ccfa049c62",
       "rows": [
        [
         "Country",
         "0"
        ],
        [
         "Happiness_Score",
         "0"
        ],
        [
         "GDP_per_Capita",
         "0"
        ],
        [
         "Social_Support",
         "0"
        ],
        [
         "Life_Expectancy",
         "0"
        ],
        [
         "Freedom",
         "0"
        ],
        [
         "Corruption_Perception",
         "0"
        ],
        [
         "Generosity",
         "0"
        ]
       ],
       "shape": {
        "columns": 1,
        "rows": 8
       }
      },
      "text/plain": [
       "Country                  0\n",
       "Happiness_Score          0\n",
       "GDP_per_Capita           0\n",
       "Social_Support           0\n",
       "Life_Expectancy          0\n",
       "Freedom                  0\n",
       "Corruption_Perception    0\n",
       "Generosity               0\n",
       "dtype: int64"
      ]
     },
     "execution_count": 7,
     "metadata": {},
     "output_type": "execute_result"
    }
   ],
   "source": [
    "df_cleaned.isnull().sum()"
   ]
  },
  {
   "cell_type": "markdown",
   "id": "dd84958e",
   "metadata": {},
   "source": []
  },
  {
   "cell_type": "markdown",
   "id": "71a850d3",
   "metadata": {},
   "source": [
    "### Codificación de variables categóricas\n",
    "Aplica codificación (como LabelEncoder o One-Hot Encoding) a las columnas categóricas (`Region`, `Happiness_Level`, `Happiness Category`) para preparar los datos para el modelo.\n",
    "### Selección de características\n",
    "Define las variables independientes (X) seleccionando las columnas relevantes del DataFrame limpio y la variable dependiente (y) como `Happiness_Score`."
   ]
  },
  {
   "cell_type": "code",
   "execution_count": 8,
   "id": "47d8319d",
   "metadata": {},
   "outputs": [],
   "source": [
    "# Variables predictoras y objetivo\n",
    "X = df_cleaned.drop(columns=['Happiness_Score',])\n",
    "y = df_cleaned['Happiness_Score']\n",
    "\n",
    "# Codificar variables categóricas si existen (por ejemplo, 'Region')\n",
    "X = pd.get_dummies(X, drop_first=True)\n"
   ]
  },
  {
   "cell_type": "markdown",
   "id": "33f1545c",
   "metadata": {},
   "source": [
    "### División de datos en entrenamiento y prueba\n",
    "Divide el conjunto de datos en conjuntos de entrenamiento y prueba utilizando `train_test_split` para evaluar el rendimiento del modelo."
   ]
  },
  {
   "cell_type": "code",
   "execution_count": 9,
   "id": "3cddcce0",
   "metadata": {},
   "outputs": [],
   "source": [
    "X_train, X_test, y_train, y_test = train_test_split(X, y, test_size=0.2, random_state=42)"
   ]
  },
  {
   "cell_type": "code",
   "execution_count": 10,
   "id": "d286c69e",
   "metadata": {},
   "outputs": [
    {
     "data": {
      "text/plain": [
       "(157, 175)"
      ]
     },
     "execution_count": 10,
     "metadata": {},
     "output_type": "execute_result"
    }
   ],
   "source": [
    "X_test.shape"
   ]
  },
  {
   "cell_type": "code",
   "execution_count": 11,
   "id": "8bf4d7a0",
   "metadata": {},
   "outputs": [
    {
     "data": {
      "text/plain": [
       "(625, 175)"
      ]
     },
     "execution_count": 11,
     "metadata": {},
     "output_type": "execute_result"
    }
   ],
   "source": [
    "X_train.shape"
   ]
  },
  {
   "cell_type": "code",
   "execution_count": 12,
   "id": "9b951360",
   "metadata": {},
   "outputs": [
    {
     "data": {
      "text/plain": [
       "Index(['GDP_per_Capita', 'Social_Support', 'Life_Expectancy', 'Freedom',\n",
       "       'Corruption_Perception', 'Generosity', 'Country_Albania',\n",
       "       'Country_Algeria', 'Country_Angola', 'Country_Argentina',\n",
       "       ...\n",
       "       'Country_United Arab Emirates', 'Country_United Kingdom',\n",
       "       'Country_United States', 'Country_Uruguay', 'Country_Uzbekistan',\n",
       "       'Country_Venezuela', 'Country_Vietnam', 'Country_Yemen',\n",
       "       'Country_Zambia', 'Country_Zimbabwe'],\n",
       "      dtype='object', length=175)"
      ]
     },
     "execution_count": 12,
     "metadata": {},
     "output_type": "execute_result"
    }
   ],
   "source": [
    "X_train.columns"
   ]
  },
  {
   "cell_type": "markdown",
   "id": "9f9f5ecb",
   "metadata": {},
   "source": [
    "### Entrenamiento y evaluación de modelos\n"
   ]
  },
  {
   "cell_type": "markdown",
   "id": "75cecd8b",
   "metadata": {},
   "source": [
    "# Linear Regression"
   ]
  },
  {
   "cell_type": "markdown",
   "id": "e7835a7a",
   "metadata": {},
   "source": [
    "| **Métrica**                                   | **Valor** | **Interpretación**                                                                                                 |\n",
    "| --------------------------------------------- | --------- | ------------------------------------------------------------------------------------------------------------------ |\n",
    "| **Mean Squared Error (MSE)**  | `0.0723`  | Error cuadrático medio en el conjunto de prueba. Cuanto más bajo, mejor.                                           |\n",
    "| **R² Score**                  | `0.9406`  | El modelo explica el 94.1% de la varianza en el conjunto de prueba. Muy buen ajuste.                               |\n",
    "| **R² global (`cross_val_predict`)**           | `0.8583`  | Porcentaje de varianza explicada usando predicciones cruzadas. Evaluación más realista de la capacidad predictiva. |\n",
    "| **MAE (`cross_val_predict`)**                 | `0.2485`  | Error absoluto medio. En promedio, el modelo se equivoca en ±0.25 unidades.                                        |\n",
    "| **R² promedio (`cross_val_score`)**           | `0.8527`  | Promedio de R² en validación cruzada. Muy cercano al R² global, lo que indica estabilidad.                         |\n",
    "| **Desviación estándar de R²**                 | `0.0598`  | Variabilidad del R² entre particiones. Un poco alta comparado con otros modelos como Random Forest.                |\n"
   ]
  },
  {
   "cell_type": "code",
   "execution_count": 13,
   "id": "37b6891f",
   "metadata": {},
   "outputs": [
    {
     "name": "stdout",
     "output_type": "stream",
     "text": [
      "Linear Regression:\n",
      "Mean Squared Error:  0.07227450723099678\n",
      "R²:  0.9405822086017924\n",
      "\n"
     ]
    }
   ],
   "source": [
    "\n",
    "linear_model = LinearRegression()\n",
    "linear_model.fit(X_train, y_train)\n",
    "y_pred_linear_model = linear_model.predict(X_test)\n",
    "print(\"Linear Regression:\")\n",
    "print(\"Mean Squared Error: \", mean_squared_error(y_test, y_pred_linear_model))\n",
    "print(\"R²: \", r2_score(y_test, y_pred_linear_model))\n",
    "\n",
    "print()"
   ]
  },
  {
   "cell_type": "code",
   "execution_count": 14,
   "id": "ede04b5b",
   "metadata": {},
   "outputs": [
    {
     "name": "stdout",
     "output_type": "stream",
     "text": [
      "R² global desde cross_val_predict: 0.8583190118314823\n",
      "MAE desde cross_val_predict: 0.24849941373552656\n",
      "R² promedio (validación cruzada): 0.8527135534058846\n",
      "Desviación estándar R²: 0.05977612777164632\n"
     ]
    }
   ],
   "source": [
    "# Para R²\n",
    "r2_scores = cross_val_score(linear_model , X_train, y_train, cv=5, scoring='r2')\n",
    "y_pred_cv = cross_val_predict(linear_model , X_train, y_train, cv=5)\n",
    "print(\"R² global desde cross_val_predict:\", r2_score(y_train, y_pred_cv))\n",
    "print(\"MAE desde cross_val_predict:\", mean_absolute_error(y_train, y_pred_cv))\n",
    "print(\"R² promedio (validación cruzada):\", np.mean(r2_scores))\n",
    "print(\"Desviación estándar R²:\", np.std(r2_scores))"
   ]
  },
  {
   "cell_type": "code",
   "execution_count": 15,
   "id": "4cd3d357",
   "metadata": {},
   "outputs": [
    {
     "data": {
      "image/png": "[encoded data removed]",
      "text/plain": [
       "<Figure size 800x600 with 1 Axes>"
      ]
     },
     "metadata": {},
     "output_type": "display_data"
    }
   ],
   "source": [
    "plt.figure(figsize=(8, 6))\n",
    "plt.scatter(y_test, y_pred_linear_model, color='blue', alpha=0.5, label='Predicciones')  # Corregido: coma agregada\n",
    "plt.plot([y_test.min(), y_test.max()], [y_test.min(), y_test.max()], color='red', linestyle='--', label='Línea de predicción perfecta')\n",
    "plt.title('Predicciones vs Valores Reales (Regresión Lineal)')\n",
    "plt.xlabel('Valores Reales (Happiness Score)')\n",
    "plt.ylabel('Valores Predichos')\n",
    "plt.legend()\n",
    "plt.grid(True)\n",
    "plt.show()"
   ]
  },
  {
   "cell_type": "markdown",
   "id": "e587e5f9",
   "metadata": {},
   "source": [
    "# Ridge Regression"
   ]
  },
  {
   "cell_type": "markdown",
   "id": "81d6f5e2",
   "metadata": {},
   "source": [
    "| **Métrica**                                   | **Valor** | **Interpretación**                                                                                          |\n",
    "| --------------------------------------------- | --------- | ----------------------------------------------------------------------------------------------------------- |\n",
    "| **Mean Squared Error (MSE)**  | `0.0996`  | Error cuadrático medio. Un poco más alto que en Linear Regression, pero aún aceptable.                      |\n",
    "| **R² Score**                  | `0.9181`  | El modelo explica el 91.8% de la varianza en el conjunto de prueba. Muy buen ajuste.                        |\n",
    "| **R² global (`cross_val_predict`)**           | `0.9098`  | Muy alto. Indica excelente capacidad predictiva usando validación cruzada.                                  |\n",
    "| **MAE (`cross_val_predict`)**                 | `0.2559`  | Error absoluto medio. El modelo se equivoca en promedio por ±0.26 unidades.                                 |\n",
    "| **R² promedio (`cross_val_score`)**           | `0.9087`  | Valor muy cercano al R² global. Excelente consistencia entre folds.                                         |\n",
    "| **Desviación estándar de R²**                 | `0.0092`  | Muy baja. El modelo es **altamente estable y consistente** en diferentes particiones del conjunto de datos. |\n"
   ]
  },
  {
   "cell_type": "code",
   "execution_count": 16,
   "id": "a0b7ecae",
   "metadata": {},
   "outputs": [
    {
     "name": "stdout",
     "output_type": "stream",
     "text": [
      "Ridge Regression:\n",
      "Mean Squared Error:  0.09959029931384861\n",
      "R²:  0.9181255485976185\n",
      "\n"
     ]
    }
   ],
   "source": [
    "\n",
    "ridge_model = Ridge(alpha=1.0)\n",
    "ridge_model.fit(X_train, y_train)\n",
    "y_pred_ridge = ridge_model.predict(X_test)\n",
    "print(\"Ridge Regression:\")\n",
    "print(\"Mean Squared Error: \", mean_squared_error(y_test, y_pred_ridge))\n",
    "print(\"R²: \", r2_score(y_test, y_pred_ridge))\n",
    "print()"
   ]
  },
  {
   "cell_type": "code",
   "execution_count": 17,
   "id": "c399eb71",
   "metadata": {},
   "outputs": [
    {
     "name": "stdout",
     "output_type": "stream",
     "text": [
      "R² global desde cross_val_predict: 0.9097978077913546\n",
      "MAE desde cross_val_predict: 0.2559319287837503\n",
      "R² promedio (validación cruzada): 0.9086808117463463\n",
      "Desviación estándar R²: 0.009234811638426016\n"
     ]
    }
   ],
   "source": [
    "# Para R²\n",
    "r2_scores = cross_val_score(ridge_model , X_train, y_train, cv=5, scoring='r2')\n",
    "y_pred_cv = cross_val_predict(ridge_model  , X_train, y_train, cv=5)\n",
    "print(\"R² global desde cross_val_predict:\", r2_score(y_train, y_pred_cv))\n",
    "print(\"MAE desde cross_val_predict:\", mean_absolute_error(y_train, y_pred_cv))\n",
    "print(\"R² promedio (validación cruzada):\", np.mean(r2_scores))\n",
    "print(\"Desviación estándar R²:\", np.std(r2_scores))"
   ]
  },
  {
   "cell_type": "code",
   "execution_count": 18,
   "id": "e214528b",
   "metadata": {},
   "outputs": [
    {
     "data": {
      "image/png": "[encoded data removed]",
      "text/plain": [
       "<Figure size 800x600 with 1 Axes>"
      ]
     },
     "metadata": {},
     "output_type": "display_data"
    }
   ],
   "source": [
    "plt.figure(figsize=(8, 6))\n",
    "plt.scatter(y_test, y_pred_ridge, color='blue', alpha=0.5, label='Predicciones')  # Corregido: coma agregada\n",
    "plt.plot([y_test.min(), y_test.max()], [y_test.min(), y_test.max()], color='red', linestyle='--', label='Línea de predicción perfecta')\n",
    "plt.title('Predicciones vs Valores Reales (Regresión Ridge)')\n",
    "plt.xlabel('Valores Reales (Happiness Score)')\n",
    "plt.ylabel('Valores Predichos')\n",
    "plt.legend()\n",
    "plt.grid(True)\n",
    "plt.show()"
   ]
  },
  {
   "cell_type": "markdown",
   "id": "f4436c44",
   "metadata": {},
   "source": [
    "# Random Forest"
   ]
  },
  {
   "cell_type": "markdown",
   "id": "10dc58d4",
   "metadata": {},
   "source": [
    "| **Métrica**                                   | **Valor** | **Interpretación**                                                                                                         |\n",
    "| --------------------------------------------- | --------- | -------------------------------------------------------------------------------------------------------------------------- |\n",
    "| **Mean Squared Error (MSE)**  | `0.2033`  | Error cuadrático medio más alto que los modelos lineales. Menor precisión en los valores predichos.                        |\n",
    "| **R² Score**                  | `0.8329`  | El modelo explica el 83.3% de la varianza. Correcto, pero menor que los modelos lineales.                                  |\n",
    "| **R² global (`cross_val_predict`)**           | `0.8295`  | Indica que el modelo mantiene una capacidad de predicción razonable, aunque menor que Ridge o Linear.                      |\n",
    "| **MAE (`cross_val_predict`)**                 | `0.3541`  | Error absoluto medio. El más alto de los tres modelos. Menor precisión en predicciones individuales.                       |\n",
    "| **R² promedio (`cross_val_score`)**           | `0.8258`  | Valor aceptable, pero el menor entre los modelos comparados.                                                               |\n",
    "| **Desviación estándar de R²**                 | `0.0295`  | Variabilidad moderada. Mayor que en Ridge, menor que en Linear. El modelo no es el más estable, pero tampoco es inestable. |\n"
   ]
  },
  {
   "cell_type": "code",
   "execution_count": 19,
   "id": "f3d98e4d",
   "metadata": {},
   "outputs": [
    {
     "name": "stdout",
     "output_type": "stream",
     "text": [
      "Random Forest:\n",
      "Mean Squared Error:  0.20330895526193413\n",
      "R²:  0.8328571227122773\n",
      "\n"
     ]
    }
   ],
   "source": [
    "\n",
    "ranf_model = RandomForestRegressor(random_state=42)\n",
    "ranf_model.fit(X_train, y_train)\n",
    "y_pred_ranf_model = ranf_model.predict(X_test)\n",
    "print(\"Random Forest:\")\n",
    "print(\"Mean Squared Error: \", mean_squared_error(y_test, y_pred_ranf_model))\n",
    "print(\"R²: \", r2_score(y_test, y_pred_ranf_model))\n",
    "print()"
   ]
  },
  {
   "cell_type": "code",
   "execution_count": 20,
   "id": "2020ef95",
   "metadata": {},
   "outputs": [
    {
     "name": "stdout",
     "output_type": "stream",
     "text": [
      "R² global desde cross_val_predict: 0.8294530043231776\n",
      "MAE desde cross_val_predict: 0.3540935986310813\n",
      "R² promedio (validación cruzada): 0.8257704641228367\n",
      "Desviación estándar R²: 0.02948611981005384\n"
     ]
    }
   ],
   "source": [
    "# Para R²\n",
    "r2_scores = cross_val_score(ranf_model, X_train, y_train, cv=5, scoring='r2')\n",
    "y_pred_cv = cross_val_predict(ranf_model , X_train, y_train, cv=5)\n",
    "print(\"R² global desde cross_val_predict:\", r2_score(y_train, y_pred_cv))\n",
    "print(\"MAE desde cross_val_predict:\", mean_absolute_error(y_train, y_pred_cv))\n",
    "print(\"R² promedio (validación cruzada):\", np.mean(r2_scores))\n",
    "print(\"Desviación estándar R²:\", np.std(r2_scores))"
   ]
  },
  {
   "cell_type": "code",
   "execution_count": 21,
   "id": "f2808582",
   "metadata": {},
   "outputs": [
    {
     "data": {
      "image/png": "[encoded data removed]",
      "text/plain": [
       "<Figure size 800x600 with 1 Axes>"
      ]
     },
     "metadata": {},
     "output_type": "display_data"
    }
   ],
   "source": [
    "plt.figure(figsize=(8, 6))\n",
    "plt.scatter(y_test, y_pred_ranf_model, color='blue', alpha=0.5, label='Predicciones')  # Corregido: coma agregada\n",
    "plt.plot([y_test.min(), y_test.max()], [y_test.min(), y_test.max()], color='red', linestyle='--', label='Línea de predicción perfecta')\n",
    "plt.title('Predicciones vs Valores Reales (Random Forest)')\n",
    "plt.xlabel('Valores Reales (Happiness Score)')\n",
    "plt.ylabel('Valores Predichos')\n",
    "plt.legend()\n",
    "plt.grid(True)\n",
    "plt.show()"
   ]
  },
  {
   "cell_type": "markdown",
   "id": "2ad344d6",
   "metadata": {},
   "source": [
    "## escoger modelo "
   ]
  },
  {
   "cell_type": "markdown",
   "id": "fd2c212c",
   "metadata": {},
   "source": [
    "| **Métrica**                         | **Linear Regression** | **Ridge Regression** | **Random Forest** |\n",
    "| ----------------------------------- | --------------------- | -------------------- | ----------------- |\n",
    "| **MSE**                   | 0.0723                | 0.0996               | 0.2033            |\n",
    "| **R²**                    | 0.9406                | 0.9181               | 0.8329            |\n",
    "| **R² global (cross\\_val\\_predict)** | 0.8583                | **0.9098**           | 0.8295            |\n",
    "| **MAE (cross\\_val\\_predict)**       | **0.2485**            | 0.2559               | 0.3541            |\n",
    "| **R² promedio (cross\\_val\\_score)** | 0.8527                | **0.9087**           | 0.8258            |\n",
    "| **Desv. estándar R²**               | 0.0598                | **0.0092**           | 0.0295            |\n"
   ]
  },
  {
   "cell_type": "markdown",
   "id": "801da600",
   "metadata": {},
   "source": [
    "\n",
    "###  **Análisis Comparativo**\n",
    "\n",
    "####  **1. Ridge Regression** *(Mejor rendimiento general)*\n",
    "\n",
    "* **Mayor capacidad predictiva** global (`R² ≈ 0.91`) y en validación cruzada.\n",
    "* **Más consistente**: menor desviación estándar entre folds.\n",
    "* Buen compromiso entre precisión, robustez y regularización.\n",
    "* Ideal si hay multicolinealidad o si se quiere evitar sobreajuste.\n",
    "\n",
    "####  **2. Linear Regression**\n",
    "\n",
    "* **Excelente rendimiento en prueba (`R² ≈ 0.94`)**, pero menos estable en validación cruzada.\n",
    "* **Mejor MAE**, por lo tanto, más preciso en errores individuales.\n",
    "* Menor robustez que Ridge ante particiones de datos diferentes.\n",
    "\n",
    "####  **3. Random Forest**\n",
    "\n",
    "* **Peor desempeño global** en todas las métricas.\n",
    "* MAE y MSE más altos, menor `R²`, tanto en prueba como en validación cruzada.\n",
    "* A pesar de su capacidad para modelar no linealidades, **no aporta beneficios en este caso**.\n",
    "\n",
    "---\n",
    "\n",
    "###  **Conclusión Final**\n",
    "\n",
    "*Se eligio el  Ridge Regression por precisión y estabilidad general.\n"
   ]
  },
  {
   "cell_type": "markdown",
   "id": "8110946c",
   "metadata": {},
   "source": [
    "###  Distribución de Errores\n",
    "\n",
    "Este histograma muestra los errores (residuos) del modelo.  \n",
    "Un buen modelo debería tener errores centrados cerca de 0 y una forma simétrica, lo que indica que no hay sesgo sistemático.\n"
   ]
  },
  {
   "cell_type": "code",
   "execution_count": 22,
   "id": "a8604e9d",
   "metadata": {},
   "outputs": [
    {
     "data": {
      "image/png": "[encoded data removed]",
      "text/plain": [
       "<Figure size 800x500 with 1 Axes>"
      ]
     },
     "metadata": {},
     "output_type": "display_data"
    }
   ],
   "source": [
    "errors = y_test - y_pred_ranf_model\n",
    "\n",
    "plt.figure(figsize=(8, 5))\n",
    "sns.histplot(errors, kde=True, color='orange')\n",
    "plt.title('Distribución de errores (residuos)')\n",
    "plt.xlabel('Error (y_test - y_pred)')\n",
    "plt.ylabel('Frecuencia')\n",
    "plt.grid(True)\n",
    "plt.show()\n"
   ]
  },
  {
   "cell_type": "markdown",
   "id": "464199d2",
   "metadata": {},
   "source": [
    "### Guardado del modelo\n",
    "Guarda el modelo entrenado en un archivo utilizando `pickle` o `joblib` para su uso futuro."
   ]
  },
  {
   "cell_type": "code",
   "execution_count": 23,
   "id": "1c0aedf8",
   "metadata": {},
   "outputs": [
    {
     "data": {
      "text/plain": [
       "['C:\\\\Users\\\\Acer\\\\OneDrive\\\\Escritorio\\\\Workshops y Proyectos\\\\workshop3\\\\modelo\\\\ridge_model.pkl']"
      ]
     },
     "execution_count": 23,
     "metadata": {},
     "output_type": "execute_result"
    }
   ],
   "source": [
    "# Directorio de salida\n",
    "output_dir = r\"C:\\Users\\Acer\\OneDrive\\Escritorio\\Workshops y Proyectos\\workshop3\\modelo\"\n",
    "os.makedirs(output_dir, exist_ok=True)\n",
    "\n",
    "# Ruta de guardado\n",
    "model_path = os.path.join(output_dir, \"ridge_model.pkl\")\n",
    "\n",
    "# Guardar modelo y columnas en un diccionario\n",
    "objeto_modelo = {\n",
    "    \"modelo\": ranf_model,  # Asegúrate de que ranf_model esté entrenado\n",
    "    \"features\": list(X_train.columns)\n",
    "}\n",
    "\n",
    "joblib.dump(objeto_modelo, model_path)\n"
   ]
  }
 ],
 "metadata": {
  "kernelspec": {
   "display_name": "Python 3",
   "language": "python",
   "name": "python3"
  },
  "language_info": {
   "codemirror_mode": {
    "name": "ipython",
    "version": 3
   },
   "file_extension": ".py",
   "mimetype": "text/x-python",
   "name": "python",
   "nbconvert_exporter": "python",
   "pygments_lexer": "ipython3",
   "version": "3.12.6"
  }
 },
 "nbformat": 4,
 "nbformat_minor": 5
}
